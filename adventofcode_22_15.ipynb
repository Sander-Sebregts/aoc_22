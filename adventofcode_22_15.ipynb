{
 "cells": [
  {
   "cell_type": "markdown",
   "metadata": {},
   "source": [
    "# Day 15"
   ]
  },
  {
   "cell_type": "markdown",
   "metadata": {},
   "source": [
    "## Data"
   ]
  },
  {
   "cell_type": "code",
   "execution_count": 1,
   "metadata": {},
   "outputs": [],
   "source": [
    "from adventofcodedata_22 import data_day15\n",
    "\n",
    "import re\n",
    "\n",
    "input_data = data_day15\n",
    "test_data = \"\"\"Sensor at x=2, y=18: closest beacon is at x=-2, y=15\n",
    "Sensor at x=9, y=16: closest beacon is at x=10, y=16\n",
    "Sensor at x=13, y=2: closest beacon is at x=15, y=3\n",
    "Sensor at x=12, y=14: closest beacon is at x=10, y=16\n",
    "Sensor at x=10, y=20: closest beacon is at x=10, y=16\n",
    "Sensor at x=14, y=17: closest beacon is at x=10, y=16\n",
    "Sensor at x=8, y=7: closest beacon is at x=2, y=10\n",
    "Sensor at x=2, y=0: closest beacon is at x=2, y=10\n",
    "Sensor at x=0, y=11: closest beacon is at x=2, y=10\n",
    "Sensor at x=20, y=14: closest beacon is at x=25, y=17\n",
    "Sensor at x=17, y=20: closest beacon is at x=21, y=22\n",
    "Sensor at x=16, y=7: closest beacon is at x=15, y=3\n",
    "Sensor at x=14, y=3: closest beacon is at x=15, y=3\n",
    "Sensor at x=20, y=1: closest beacon is at x=15, y=3\n",
    "\"\"\"\n"
   ]
  },
  {
   "cell_type": "markdown",
   "metadata": {},
   "source": [
    "## Part 1"
   ]
  },
  {
   "cell_type": "markdown",
   "metadata": {},
   "source": [
    "### Functions"
   ]
  },
  {
   "cell_type": "code",
   "execution_count": 2,
   "metadata": {},
   "outputs": [],
   "source": [
    "class Sensor():\n",
    "    def __init__(self, sensor_position: list[int], beacon_position: list[int]) -> None:\n",
    "        self.x = sensor_position[0]\n",
    "        self.y = sensor_position[1]\n",
    "        self.beacon_x = beacon_position[0]\n",
    "        self.beacon_y = beacon_position[1]\n",
    "        self.beacon_distance = sum(\n",
    "            [abs(beacon_position[0]-sensor_position[0]),\n",
    "             abs(beacon_position[1]-sensor_position[1])]\n",
    "        )\n",
    "\n",
    "    def not_possible_on_row(self, row: int) -> list:\n",
    "        dist_to_row = abs(self.y-row)\n",
    "        difference_in_distance = self.beacon_distance - dist_to_row\n",
    "        if difference_in_distance >= 0:\n",
    "            range_where_not_possible = [x for x in range(\n",
    "                self.x-difference_in_distance, self.x+difference_in_distance+1)]\n",
    "        else:\n",
    "            range_where_not_possible = []\n",
    "\n",
    "        return range_where_not_possible\n",
    "\n",
    "    def get_possible_locations(self, max_coord_value: int) -> list:\n",
    "\n",
    "        x_possible = [x for x in range(max_coord_value+1)]\n",
    "        possible_locations = []\n",
    "        for y in range(max_coord_value+1):\n",
    "            for x in self.not_possible_on_row(y):\n",
    "                if x in x_possible:\n",
    "                    possible_locations.append((x,y))\n",
    "\n",
    "        return possible_locations\n",
    "\n",
    "    def get_coord_distance(self, coord: tuple) -> int:\n",
    "        return self.beacon_distance-sum([abs(self.x-coord[0]),abs(self.y-coord[1])])\n"
   ]
  },
  {
   "cell_type": "markdown",
   "metadata": {},
   "source": [
    "### Code"
   ]
  },
  {
   "cell_type": "code",
   "execution_count": 3,
   "metadata": {},
   "outputs": [],
   "source": [
    "sensors = []\n",
    "for sensor_definition in input_data.splitlines():\n",
    "    m = re.findall(r\"(-?\\d+)\", sensor_definition)\n",
    "    sensors.append(Sensor(sensor_position=[int(m[0]), int(m[1])], beacon_position=[int(m[2]),int(m[3])]))\n"
   ]
  },
  {
   "cell_type": "code",
   "execution_count": 4,
   "metadata": {},
   "outputs": [],
   "source": [
    "not_valid_location = []\n",
    "beacon_locations = []\n",
    "\n",
    "checked_row = 2000000\n",
    "\n",
    "for sensor in sensors:\n",
    "    not_here = sensor.not_possible_on_row(row = checked_row)\n",
    "    if sensor.beacon_y == checked_row:\n",
    "        beacon_locations.append(sensor.beacon_x)\n",
    "    not_valid_location.extend(not_here)"
   ]
  },
  {
   "cell_type": "code",
   "execution_count": 5,
   "metadata": {},
   "outputs": [
    {
     "name": "stdout",
     "output_type": "stream",
     "text": [
      "6275922\n"
     ]
    }
   ],
   "source": [
    "print(len(set(not_valid_location)-set(beacon_locations)))"
   ]
  },
  {
   "cell_type": "markdown",
   "metadata": {},
   "source": [
    "## Part 2"
   ]
  },
  {
   "cell_type": "markdown",
   "metadata": {},
   "source": [
    "### Functions"
   ]
  },
  {
   "cell_type": "code",
   "execution_count": null,
   "metadata": {},
   "outputs": [],
   "source": []
  },
  {
   "cell_type": "markdown",
   "metadata": {},
   "source": [
    "### Code"
   ]
  },
  {
   "cell_type": "code",
   "execution_count": 6,
   "metadata": {},
   "outputs": [],
   "source": [
    "sensors = []\n",
    "for sensor_definition in input_data.splitlines():\n",
    "    m = re.findall(r\"(-?\\d+)\", sensor_definition)\n",
    "    sensors.append(Sensor(sensor_position=[int(m[0]), int(m[1])], beacon_position=[int(m[2]),int(m[3])]))"
   ]
  },
  {
   "cell_type": "code",
   "execution_count": 10,
   "metadata": {},
   "outputs": [
    {
     "name": "stdout",
     "output_type": "stream",
     "text": [
      "Progress on full field: 5.0%\n",
      "Progress on full field: 10.0%\n",
      "Progress on full field: 15.0%\n",
      "Progress on full field: 20.0%\n",
      "Progress on full field: 25.0%\n",
      "Progress on full field: 30.0%\n",
      "Progress on full field: 35.0%\n",
      "Progress on full field: 40.0%\n",
      "Progress on full field: 45.0%\n",
      "Progress on full field: 50.0%\n",
      "Progress on full field: 55.0%\n",
      "Progress on full field: 60.0%\n",
      "Progress on full field: 65.0%\n",
      "Progress on full field: 70.0%\n",
      "Progress on full field: 75.0%\n",
      "Progress on full field: 80.0%\n",
      "Progress on full field: 85.0%\n"
     ]
    }
   ],
   "source": [
    "found = False\n",
    "x = 0\n",
    "y = 0\n",
    "max_coord_value = 4000000\n",
    "\n",
    "while not found:\n",
    "    distances = [sensor.get_coord_distance(coord = (x,y)) for sensor in sensors]\n",
    "\n",
    "    if max(distances) < 0:\n",
    "        break\n",
    "\n",
    "    x += max(distances)+1\n",
    "    if x > max_coord_value:\n",
    "        x = 0\n",
    "        y += 1\n",
    "        if y%(max_coord_value/20) == 0:\n",
    "            print(f\"Progress on full field: {y/(max_coord_value/100)}%\")\n",
    "\n"
   ]
  },
  {
   "cell_type": "code",
   "execution_count": 13,
   "metadata": {},
   "outputs": [
    {
     "name": "stdout",
     "output_type": "stream",
     "text": [
      "Found location: 2936793, 3442119\n",
      "11747175442119\n"
     ]
    }
   ],
   "source": [
    "print(f\"Found location: {x}, {y}\")\n",
    "print(x*4000000+y)"
   ]
  },
  {
   "cell_type": "code",
   "execution_count": null,
   "metadata": {},
   "outputs": [],
   "source": []
  }
 ],
 "metadata": {
  "kernelspec": {
   "display_name": "Python 3.10.7 64-bit",
   "language": "python",
   "name": "python3"
  },
  "language_info": {
   "codemirror_mode": {
    "name": "ipython",
    "version": 3
   },
   "file_extension": ".py",
   "mimetype": "text/x-python",
   "name": "python",
   "nbconvert_exporter": "python",
   "pygments_lexer": "ipython3",
   "version": "3.10.7"
  },
  "orig_nbformat": 4,
  "vscode": {
   "interpreter": {
    "hash": "7ed3aa251436c0ee3efb303ec00ab32db67a7a0c166fdae5acc821b8f1b6168c"
   }
  }
 },
 "nbformat": 4,
 "nbformat_minor": 2
}
