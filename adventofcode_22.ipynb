{
 "cells": [
  {
   "cell_type": "markdown",
   "metadata": {},
   "source": [
    "# Day 1"
   ]
  },
  {
   "cell_type": "code",
   "execution_count": 1,
   "metadata": {},
   "outputs": [],
   "source": [
    "import re\n",
    "\n",
    "from adventofcodedata_22 import data_day1"
   ]
  },
  {
   "cell_type": "markdown",
   "metadata": {},
   "source": [
    "### Part 1"
   ]
  },
  {
   "cell_type": "code",
   "execution_count": 15,
   "metadata": {},
   "outputs": [
    {
     "name": "stdout",
     "output_type": "stream",
     "text": [
      "71506\n"
     ]
    }
   ],
   "source": [
    "# print(repr(data_day1))\n",
    "elves = data_day1.split(\"\\n\\n\")\n",
    "for i, individual in enumerate(elves):\n",
    "    elves[i] = individual.split(\"\\n\")\n",
    "    for j, calories in enumerate(elves[i]):\n",
    "        elves[i][j] = int(elves[i][j])\n",
    "    elves[i] = sum(elves[i])\n",
    "print(max(elves))\n"
   ]
  },
  {
   "cell_type": "markdown",
   "metadata": {},
   "source": [
    "### Part 2"
   ]
  },
  {
   "cell_type": "code",
   "execution_count": 19,
   "metadata": {},
   "outputs": [
    {
     "name": "stdout",
     "output_type": "stream",
     "text": [
      "209603\n"
     ]
    }
   ],
   "source": [
    "elves.sort()\n",
    "print(sum(elves[-3:]))"
   ]
  },
  {
   "cell_type": "markdown",
   "metadata": {},
   "source": [
    "# Day 2"
   ]
  },
  {
   "cell_type": "markdown",
   "metadata": {},
   "source": [
    "## Data"
   ]
  },
  {
   "cell_type": "code",
   "execution_count": 1,
   "metadata": {},
   "outputs": [],
   "source": [
    "from adventofcodedata_22 import data_day2\n",
    "# sample_data = []\n",
    "\n",
    "input_data = data_day2"
   ]
  },
  {
   "cell_type": "markdown",
   "metadata": {},
   "source": [
    "## Part 1"
   ]
  },
  {
   "cell_type": "markdown",
   "metadata": {},
   "source": [
    "### Functions"
   ]
  },
  {
   "cell_type": "code",
   "execution_count": 10,
   "metadata": {},
   "outputs": [],
   "source": [
    "def is_win(game):\n",
    "    if (game[0] == \"A\" and game[1] == \"Y\") or (game[0] == \"B\" and game[1] == \"Z\") or (game[0] == \"C\" and game[1] == \"X\"):\n",
    "        return True\n",
    "    else:\n",
    "        return False\n",
    "\n",
    "def is_draw(game):\n",
    "    if (game[0] == \"A\" and game[1] == \"X\") or (game[0] == \"B\" and game[1] == \"Y\") or (game[0] == \"C\" and game[1] == \"Z\"):\n",
    "        return True\n",
    "    else:\n",
    "        return False\n",
    "\n",
    "def get_points(game):\n",
    "    return ord(game[1])-87 + 6*is_win(game) + 3*is_draw(game)"
   ]
  },
  {
   "cell_type": "markdown",
   "metadata": {},
   "source": [
    "### Code"
   ]
  },
  {
   "cell_type": "code",
   "execution_count": 11,
   "metadata": {},
   "outputs": [],
   "source": [
    "games = input_data.split(\"\\n\")\n",
    "scores = []\n",
    "for i, game in enumerate(games):\n",
    "    try:\n",
    "        games[i] = [game[0], game[2]]\n",
    "        scores.append(get_points(games[i]))\n",
    "    except:\n",
    "        del games[i]\n",
    "\n",
    "print(sum(scores))"
   ]
  },
  {
   "cell_type": "markdown",
   "metadata": {},
   "source": [
    "## Part 2"
   ]
  },
  {
   "cell_type": "markdown",
   "metadata": {},
   "source": [
    "### Functions"
   ]
  },
  {
   "cell_type": "code",
   "execution_count": 28,
   "metadata": {},
   "outputs": [],
   "source": [
    "def is_win_2(game):\n",
    "    if game[1] == \"Z\":\n",
    "        return True\n",
    "    else:\n",
    "        return False\n",
    "\n",
    "def is_draw_2(game):\n",
    "    if game[1] == \"Y\":\n",
    "        return True\n",
    "    else:\n",
    "        return False\n",
    "    \n",
    "def my_score(game):\n",
    "    if is_win_2(game):\n",
    "        return (ord(game[0])-64)%3+1\n",
    "    if is_draw_2(game):\n",
    "        return ord(game[0])-64\n",
    "    else:\n",
    "        return ord(game[0])%3+1\n",
    "\n",
    "def get_points_2(game):\n",
    "    return my_score(game) + 6*is_win_2(game) + 3*is_draw_2(game)"
   ]
  },
  {
   "cell_type": "markdown",
   "metadata": {},
   "source": [
    "### Code"
   ]
  },
  {
   "cell_type": "code",
   "execution_count": 29,
   "metadata": {},
   "outputs": [
    {
     "name": "stdout",
     "output_type": "stream",
     "text": [
      "13726\n"
     ]
    }
   ],
   "source": [
    "scores_2 = []\n",
    "for game in games:\n",
    "    scores_2.append(get_points_2(game))\n",
    "\n",
    "print(sum(scores_2))"
   ]
  },
  {
   "cell_type": "markdown",
   "metadata": {},
   "source": [
    "# Day 3"
   ]
  },
  {
   "cell_type": "markdown",
   "metadata": {},
   "source": [
    "### Data"
   ]
  },
  {
   "cell_type": "code",
   "execution_count": 1,
   "metadata": {},
   "outputs": [],
   "source": [
    "from adventofcodedata_22 import data_day3\n",
    "\n",
    "input_data = data_day3"
   ]
  },
  {
   "cell_type": "markdown",
   "metadata": {},
   "source": [
    "### Part 1"
   ]
  },
  {
   "cell_type": "code",
   "execution_count": 26,
   "metadata": {},
   "outputs": [
    {
     "name": "stdout",
     "output_type": "stream",
     "text": [
      "7763\n"
     ]
    }
   ],
   "source": [
    "sack_contents = input_data.splitlines()\n",
    "\n",
    "total_prio = 0\n",
    "\n",
    "for sack in sack_contents:\n",
    "    comp1 = sack[:len(sack)//2]\n",
    "    comp2 = sack[len(sack)//2:]\n",
    "\n",
    "    double_item = \"\".join(set(comp1)&set(comp2))\n",
    "\n",
    "    item_prio = \"abcdefghijklmnopqrstuvwxyzABCDEFGHIJKLMNOPQRSTUVWXYZ\".index(double_item)+1\n",
    "    total_prio += item_prio\n",
    "\n",
    "print(total_prio)"
   ]
  },
  {
   "cell_type": "markdown",
   "metadata": {},
   "source": [
    "### Part 2"
   ]
  },
  {
   "cell_type": "code",
   "execution_count": 27,
   "metadata": {},
   "outputs": [
    {
     "name": "stdout",
     "output_type": "stream",
     "text": [
      "2569\n"
     ]
    }
   ],
   "source": [
    "total_badge_prio = 0\n",
    "\n",
    "for i in range(int(len(sack_contents)/3)):\n",
    "    sack1 = set(sack_contents[3*i])\n",
    "    sack2 = set(sack_contents[3*i+1])\n",
    "    sack3 = set(sack_contents[3*i+2])\n",
    "    \n",
    "    badge = \"\".join(sack1&sack2&sack3)\n",
    "    badge_prio = \"abcdefghijklmnopqrstuvwxyzABCDEFGHIJKLMNOPQRSTUVWXYZ\".index(badge)+1\n",
    "\n",
    "    total_badge_prio += badge_prio\n",
    "\n",
    "print(total_badge_prio)\n"
   ]
  },
  {
   "cell_type": "markdown",
   "metadata": {},
   "source": [
    "# Day 4"
   ]
  },
  {
   "cell_type": "markdown",
   "metadata": {},
   "source": [
    "### Data"
   ]
  },
  {
   "cell_type": "code",
   "execution_count": 6,
   "metadata": {},
   "outputs": [],
   "source": [
    "from adventofcodedata_22 import data_day4\n",
    "\n",
    "import re\n",
    "\n",
    "input_data = data_day4"
   ]
  },
  {
   "cell_type": "markdown",
   "metadata": {},
   "source": [
    "### Part 1"
   ]
  },
  {
   "cell_type": "code",
   "execution_count": 25,
   "metadata": {},
   "outputs": [
    {
     "name": "stdout",
     "output_type": "stream",
     "text": [
      "459\n"
     ]
    }
   ],
   "source": [
    "pairs = input_data.splitlines()\n",
    "overlapping = 0\n",
    "\n",
    "for pair in pairs:\n",
    "    regex = r\"(\\d+)-(\\d+),(\\d+)-(\\d+)\"\n",
    "    m = re.match('(\\d+)-(\\d+),(\\d+)-(\\d+)', pair)\n",
    "    if ((int(m[1])<=int(m[3])) and (int(m[2])>=int(m[4]))) or ((int(m[1])>=int(m[3])) and (int(m[2])<=int(m[4]))):\n",
    "        overlapping += 1\n",
    "\n",
    "print(overlapping)\n"
   ]
  },
  {
   "cell_type": "markdown",
   "metadata": {},
   "source": [
    "### Part 2"
   ]
  },
  {
   "cell_type": "code",
   "execution_count": 27,
   "metadata": {},
   "outputs": [
    {
     "name": "stdout",
     "output_type": "stream",
     "text": [
      "779\n"
     ]
    }
   ],
   "source": [
    "overlapping_range = 0\n",
    "\n",
    "for pair in pairs:\n",
    "    regex = r\"(\\d+)-(\\d+),(\\d+)-(\\d+)\"\n",
    "    m = re.match('(\\d+)-(\\d+),(\\d+)-(\\d+)', pair)\n",
    "\n",
    "    if set(range(int(m[1]),int(m[2])+1)) & set(range(int(m[3]),int(m[4])+1)):\n",
    "        overlapping_range += 1\n",
    "\n",
    "print(overlapping_range)"
   ]
  },
  {
   "cell_type": "markdown",
   "metadata": {},
   "source": [
    "# Day 5"
   ]
  },
  {
   "cell_type": "markdown",
   "metadata": {},
   "source": [
    "### Data"
   ]
  },
  {
   "cell_type": "code",
   "execution_count": 24,
   "metadata": {},
   "outputs": [],
   "source": [
    "from adventofcodedata_22 import data_day5\n",
    "\n",
    "import re\n",
    "\n",
    "input_data = data_day5"
   ]
  },
  {
   "cell_type": "markdown",
   "metadata": {},
   "source": [
    "### Part 1"
   ]
  },
  {
   "cell_type": "code",
   "execution_count": 40,
   "metadata": {},
   "outputs": [
    {
     "name": "stdout",
     "output_type": "stream",
     "text": [
      "QMBMJDFTD\n"
     ]
    }
   ],
   "source": [
    "# Data init\n",
    "lines = input_data.splitlines()\n",
    "zero_lines = [i for i, line in enumerate(lines) if line == \"\"]\n",
    "base_line = lines[zero_lines[1]-1].split()\n",
    "\n",
    "# Stack matrix init\n",
    "stacks = []\n",
    "for item in base_line:\n",
    "    stacks.append([])\n",
    "\n",
    "for i in range(int(zero_lines[1])-2,int(zero_lines[0]),-1):\n",
    "    row = lines[i]\n",
    "    for col_index in range(0,int(max(base_line))):\n",
    "        if row[4*col_index+1] != \" \":\n",
    "            stacks[col_index].append(row[4*col_index+1])\n",
    "\n",
    "# Isolate instructions\n",
    "for i in range(int(zero_lines[1])+1,len(lines)):\n",
    "    instruction = lines[i]\n",
    "    m = re.match(r\"move (\\d+) from (\\d+) to (\\d+)\", instruction)\n",
    "    # Execute instruction\n",
    "    for times in range(int(m[1])):\n",
    "        stacks[int(m[3])-1].append(stacks[int(m[2])-1].pop())\n",
    "\n",
    "# Fetch output\n",
    "output = []\n",
    "for i in range(int(max(base_line))):\n",
    "    output.append(stacks[i][-1])\n",
    "\n",
    "print(\"\".join(output))\n"
   ]
  },
  {
   "cell_type": "markdown",
   "metadata": {},
   "source": [
    "### Part 2"
   ]
  },
  {
   "cell_type": "code",
   "execution_count": 42,
   "metadata": {},
   "outputs": [
    {
     "name": "stdout",
     "output_type": "stream",
     "text": [
      "NBTVTJNFJ\n"
     ]
    }
   ],
   "source": [
    "# Stack matrix init (again, could've been a method)\n",
    "stacks = []\n",
    "for item in base_line:\n",
    "    stacks.append([])\n",
    "\n",
    "for i in range(int(zero_lines[1])-2,int(zero_lines[0]),-1):\n",
    "    row = lines[i]\n",
    "    for col_index in range(0,int(max(base_line))):\n",
    "        if row[4*col_index+1] != \" \":\n",
    "            stacks[col_index].append(row[4*col_index+1])\n",
    "\n",
    "# Isolate instructions\n",
    "for i in range(int(zero_lines[1])+1,len(lines)):\n",
    "    instruction = lines[i]\n",
    "    m = re.match(r\"move (\\d+) from (\\d+) to (\\d+)\", instruction)\n",
    "    # Execute instruction (yes I could've made a function for this, didn't)\n",
    "    stacks[int(m[3])-1].extend(stacks[int(m[2])-1][-int(m[1]):])\n",
    "    del stacks[int(m[2])-1][-int(m[1]):]\n",
    "\n",
    "# Fetch output\n",
    "output = []\n",
    "for i in range(int(max(base_line))):\n",
    "    output.append(stacks[i][-1])\n",
    "\n",
    "print(\"\".join(output))\n"
   ]
  },
  {
   "cell_type": "markdown",
   "metadata": {},
   "source": [
    "# Day 6"
   ]
  },
  {
   "cell_type": "markdown",
   "metadata": {},
   "source": [
    "### Data"
   ]
  },
  {
   "cell_type": "code",
   "execution_count": 1,
   "metadata": {},
   "outputs": [],
   "source": [
    "from adventofcodedata_22 import data_day6\n",
    "\n",
    "input_data = data_day6"
   ]
  },
  {
   "cell_type": "markdown",
   "metadata": {},
   "source": [
    "### Part 1"
   ]
  },
  {
   "cell_type": "code",
   "execution_count": 4,
   "metadata": {},
   "outputs": [
    {
     "name": "stdout",
     "output_type": "stream",
     "text": [
      "1896\n"
     ]
    }
   ],
   "source": [
    "for i in range(4,len(input_data)):\n",
    "    if len(set(input_data[i-4:i]))==4:\n",
    "        print(i)\n",
    "        break"
   ]
  },
  {
   "cell_type": "markdown",
   "metadata": {},
   "source": [
    "### Part 2"
   ]
  },
  {
   "cell_type": "code",
   "execution_count": 5,
   "metadata": {},
   "outputs": [
    {
     "name": "stdout",
     "output_type": "stream",
     "text": [
      "3452\n"
     ]
    }
   ],
   "source": [
    "for i in range(14,len(input_data)):\n",
    "    if len(set(input_data[i-14:i]))==14:\n",
    "        print(i)\n",
    "        break"
   ]
  },
  {
   "cell_type": "markdown",
   "metadata": {},
   "source": [
    "# Day 7"
   ]
  },
  {
   "cell_type": "markdown",
   "metadata": {},
   "source": [
    "### Data"
   ]
  },
  {
   "cell_type": "code",
   "execution_count": 2,
   "metadata": {},
   "outputs": [],
   "source": [
    "from adventofcodedata_22 import data_day7, test_data_day7\n",
    "\n",
    "import re\n",
    "\n",
    "input_data = data_day7\n",
    "test_data = test_data_day7"
   ]
  },
  {
   "cell_type": "markdown",
   "metadata": {},
   "source": [
    "### Part 1"
   ]
  },
  {
   "cell_type": "code",
   "execution_count": 20,
   "metadata": {},
   "outputs": [],
   "source": [
    "from typing import Optional\n",
    "\n",
    "class Directory:\n",
    "    def __init__(\n",
    "        self,\n",
    "        name,\n",
    "        parent = Optional[\"Directory\"]\n",
    "    ) -> None:\n",
    "        self.name = name\n",
    "        self.parent = parent\n",
    "        self.subdirs = {}\n",
    "        self.files = {}\n",
    "\n",
    "    def get_size(self) -> int:\n",
    "        file_size = sum(value for value in self.files.values())\n",
    "        subdir_size = sum(subdir.get_size() for subdir in self.subdirs.values())\n",
    "        return file_size+subdir_size\n",
    "\n",
    "    def return_small_folders(self, max_size: int, found_so_far: list[\"Directory\"] = []):\n",
    "        if self.get_size() < max_size:\n",
    "            found_so_far.append(self)\n",
    "        \n",
    "        for subdir in self.subdirs.values():\n",
    "            found_so_far = subdir.return_small_folders(max_size=max_size, found_so_far=found_so_far)\n",
    "        \n",
    "        return found_so_far\n",
    "\n",
    "    def return_large_folders(self, max_size: int, found_so_far: list[\"Directory\"] = []):\n",
    "        if self.get_size() > max_size:\n",
    "            found_so_far.append(self)\n",
    "        \n",
    "        for subdir in self.subdirs.values():\n",
    "            found_so_far = subdir.return_large_folders(max_size=max_size, found_so_far=found_so_far)\n",
    "        \n",
    "        return found_so_far"
   ]
  },
  {
   "cell_type": "code",
   "execution_count": 21,
   "metadata": {},
   "outputs": [],
   "source": [
    "root = Directory(name=\"root\")\n",
    "current_folder = root\n",
    "\n",
    "for terminal_output in input_data.splitlines():\n",
    "    if terminal_output[0] == \"$\":\n",
    "        if terminal_output == \"$ cd ..\":\n",
    "            curr_pos = curr_pos.parent\n",
    "        elif \"cd /\" in terminal_output:\n",
    "            curr_pos = root\n",
    "        elif \"cd\" in terminal_output:\n",
    "            dir_name = terminal_output.split()[2]\n",
    "            curr_pos = curr_pos.subdirs[dir_name]\n",
    "    else:\n",
    "        if terminal_output.startswith(\"dir\"):\n",
    "            dir_name = terminal_output.split()[1]\n",
    "            curr_pos.subdirs[dir_name] = Directory(name=dir_name, parent=curr_pos)\n",
    "        else:\n",
    "            size, name = terminal_output.split()\n",
    "            curr_pos.files[name] = int(size)\n"
   ]
  },
  {
   "cell_type": "code",
   "execution_count": 22,
   "metadata": {},
   "outputs": [
    {
     "data": {
      "text/plain": [
       "1391690"
      ]
     },
     "execution_count": 22,
     "metadata": {},
     "output_type": "execute_result"
    }
   ],
   "source": [
    "sum(directory.get_size() for directory in root.return_small_folders(max_size=100000, found_so_far=[]))"
   ]
  },
  {
   "cell_type": "markdown",
   "metadata": {},
   "source": [
    "### Part 2"
   ]
  },
  {
   "cell_type": "code",
   "execution_count": 23,
   "metadata": {},
   "outputs": [
    {
     "name": "stdout",
     "output_type": "stream",
     "text": [
      "5469168\n"
     ]
    }
   ],
   "source": [
    "total_space = 70000000\n",
    "requested_space = 30000000\n",
    "root_size = root.get_size()\n",
    "\n",
    "min_delete_size = root_size+requested_space-total_space\n",
    "larger_folders = root.return_large_folders(max_size=min_delete_size, found_so_far=[])\n",
    "folder_size = min(folder.get_size() for folder in larger_folders)\n",
    "\n",
    "print(folder_size)"
   ]
  },
  {
   "cell_type": "markdown",
   "metadata": {},
   "source": [
    "# Day8"
   ]
  },
  {
   "cell_type": "markdown",
   "metadata": {},
   "source": [
    "### Data"
   ]
  },
  {
   "cell_type": "code",
   "execution_count": 13,
   "metadata": {},
   "outputs": [],
   "source": [
    "from adventofcodedata_22 import data_day8\n",
    "\n",
    "import numpy as np\n",
    "import matplotlib.pyplot as plt\n",
    "\n",
    "input_data = data_day8"
   ]
  },
  {
   "cell_type": "markdown",
   "metadata": {},
   "source": [
    "\n",
    "### Part 1"
   ]
  },
  {
   "cell_type": "code",
   "execution_count": 43,
   "metadata": {},
   "outputs": [],
   "source": [
    "dims = len(input_data)\n",
    "\n",
    "visible_mask = np.zeros((dims, dims))\n",
    "\n",
    "# only left->right\n",
    "for row_idx, row in enumerate(input_data):\n",
    "    lowest = -1\n",
    "    for col_idx, col_value in enumerate(row):\n",
    "        if col_value>lowest:\n",
    "            visible_mask[row_idx,col_idx] = 1\n",
    "            lowest = col_value\n",
    "\n",
    "# only right->left\n",
    "for row_idx, row in enumerate(input_data):\n",
    "    lowest = -1\n",
    "    for col_idx, col_value in reversed(list(enumerate(row))):\n",
    "        if col_value>lowest:\n",
    "            visible_mask[row_idx,col_idx] = 1\n",
    "            lowest = col_value\n",
    "\n",
    "# the other two\n",
    "for col_idx, col in enumerate(np.transpose(input_data)):\n",
    "    lowest = -1\n",
    "    for row_idx, row_value in enumerate(col):\n",
    "        if row_value>lowest:\n",
    "            visible_mask[row_idx,col_idx] = 1\n",
    "            lowest = row_value\n",
    "\n",
    "for col_idx, col in enumerate(np.transpose(input_data)):\n",
    "    lowest = -1\n",
    "    for row_idx, row_value in reversed(list(enumerate(col))):\n",
    "        if row_value>lowest:\n",
    "            visible_mask[row_idx,col_idx] = 1\n",
    "            lowest = row_value"
   ]
  },
  {
   "cell_type": "code",
   "execution_count": 44,
   "metadata": {},
   "outputs": [
    {
     "data": {
      "text/plain": [
       "<matplotlib.image.AxesImage at 0x1ce9412d870>"
      ]
     },
     "execution_count": 44,
     "metadata": {},
     "output_type": "execute_result"
    },
    {
     "data": {
      "image/png": "[encoded data removed]",
      "text/plain": [
       "<Figure size 640x480 with 1 Axes>"
      ]
     },
     "metadata": {},
     "output_type": "display_data"
    }
   ],
   "source": [
    "plt.imshow(visible_mask)"
   ]
  },
  {
   "cell_type": "code",
   "execution_count": 46,
   "metadata": {},
   "outputs": [
    {
     "name": "stdout",
     "output_type": "stream",
     "text": [
      "1776\n"
     ]
    }
   ],
   "source": [
    "print(int(visible_mask.sum()))"
   ]
  },
  {
   "cell_type": "markdown",
   "metadata": {},
   "source": [
    "### Part 2"
   ]
  },
  {
   "cell_type": "code",
   "execution_count": 62,
   "metadata": {},
   "outputs": [],
   "source": [
    "def view_distance(grid, location):\n",
    "    max_dim = len(grid)\n",
    "    consideration_height = grid[location[0]][location[1]]\n",
    "    view_distances = [0,0,0,0]\n",
    "    for dy in range(location[0]+1,max_dim):\n",
    "        view_distances[0]+=1\n",
    "        if grid[dy][location[1]]>=consideration_height:\n",
    "            break\n",
    "\n",
    "    for dy in range(location[0]-1,-1,-1):\n",
    "        view_distances[1]+=1\n",
    "        if grid[dy][location[1]]>=consideration_height:\n",
    "            break\n",
    "\n",
    "    for dx in range(location[1]+1,max_dim):\n",
    "        view_distances[2]+=1\n",
    "        if grid[location[0]][dx]>=consideration_height:\n",
    "            break\n",
    "\n",
    "    for dx in range(location[1]-1,-1,-1):\n",
    "        view_distances[3]+=1\n",
    "        if grid[location[0]][dx]>=consideration_height:\n",
    "            break\n",
    "    \n",
    "    return view_distances"
   ]
  },
  {
   "cell_type": "code",
   "execution_count": 64,
   "metadata": {},
   "outputs": [
    {
     "data": {
      "text/plain": [
       "<matplotlib.image.AxesImage at 0x1ce9439b220>"
      ]
     },
     "execution_count": 64,
     "metadata": {},
     "output_type": "execute_result"
    },
    {
     "data": {
      "image/png": "[encoded data removed]",
      "text/plain": [
       "<Figure size 640x480 with 1 Axes>"
      ]
     },
     "metadata": {},
     "output_type": "display_data"
    }
   ],
   "source": [
    "from functools import reduce\n",
    "\n",
    "scenic_values = np.zeros((dims,dims))\n",
    "\n",
    "for x in range(1,dims-1):\n",
    "    for y in range(1,dims-1):\n",
    "        scenic_values[x,y] = reduce(lambda x, y: x*y, view_distance(grid=input_data,location=[x,y]))\n",
    "\n",
    "plt.imshow(scenic_values)\n"
   ]
  },
  {
   "cell_type": "code",
   "execution_count": 66,
   "metadata": {},
   "outputs": [
    {
     "data": {
      "text/plain": [
       "234416"
      ]
     },
     "execution_count": 66,
     "metadata": {},
     "output_type": "execute_result"
    }
   ],
   "source": [
    "int(scenic_values.max())"
   ]
  },
  {
   "cell_type": "markdown",
   "metadata": {},
   "source": [
    "# Day 9"
   ]
  },
  {
   "cell_type": "markdown",
   "metadata": {},
   "source": [
    "### Data"
   ]
  },
  {
   "cell_type": "code",
   "execution_count": 2,
   "metadata": {},
   "outputs": [],
   "source": [
    "from adventofcodedata_22 import data_day9\n",
    "\n",
    "input_data = data_day9"
   ]
  },
  {
   "cell_type": "markdown",
   "metadata": {},
   "source": [
    "### Part 1"
   ]
  },
  {
   "cell_type": "code",
   "execution_count": 9,
   "metadata": {},
   "outputs": [],
   "source": [
    "import math\n",
    "\n",
    "def away_from_zero(x):\n",
    "    return int(math.floor(x) if x < 0 else math.ceil(x))\n",
    "\n",
    "\n",
    "def move_head_tail(position_head, position_tail, direction):\n",
    "    new_position_head = [position_head[0]+int(direction==\"R\")-int(direction==\"L\"), position_head[1]+int(direction==\"U\")-int(direction==\"D\")]\n",
    "\n",
    "    delta_pos = [head_coord - tail_coord for (head_coord, tail_coord) in zip(new_position_head, position_tail)]\n",
    "    \n",
    "    if max(abs(delta_pos[0]), abs(delta_pos[1]))>1:\n",
    "        new_position_tail = [position_tail[0]+away_from_zero(delta_pos[0]/2), position_tail[1]+away_from_zero(delta_pos[1]/2)]\n",
    "    else:\n",
    "        new_position_tail = position_tail\n",
    "\n",
    "    return new_position_head, new_position_tail, (new_position_tail[0],new_position_tail[1])"
   ]
  },
  {
   "cell_type": "code",
   "execution_count": 48,
   "metadata": {},
   "outputs": [
    {
     "name": "stdout",
     "output_type": "stream",
     "text": [
      "5710\n"
     ]
    }
   ],
   "source": [
    "visited = set()\n",
    "position_head = [0,0]\n",
    "position_tail = [0,0]\n",
    "\n",
    "for instruction in input_data.splitlines():\n",
    "    direction, distance = instruction.split()\n",
    "    for i in range(int(distance)):\n",
    "        position_head, position_tail, tuple_position_tail = move_head_tail(position_head=position_head, position_tail=position_tail, direction=direction)\n",
    "        visited.add(tuple_position_tail)\n",
    "print(len(visited))\n",
    "    "
   ]
  },
  {
   "cell_type": "markdown",
   "metadata": {},
   "source": [
    "### Part 2"
   ]
  },
  {
   "cell_type": "code",
   "execution_count": 10,
   "metadata": {},
   "outputs": [],
   "source": [
    "def move_rope(positions, direction_head):\n",
    "    new_positions = positions\n",
    "    delta_positions = []\n",
    "    for rope_part in range(10):\n",
    "        if rope_part == 0: # Head follows external instruction\n",
    "            new_positions[rope_part] = [positions[rope_part][0]+int(direction_head==\"R\")-int(direction_head==\"L\"), positions[rope_part][1]+int(direction_head==\"U\")-int(direction_head==\"D\")]\n",
    "        else: # Parts follow preceding parts, difference between parts x and x+1 is stored in delta_positions[x]\n",
    "            if max(abs(delta_positions[rope_part-1][0]), abs(delta_positions[rope_part-1][1]))>1:\n",
    "                new_positions[rope_part] = [\n",
    "                        positions[rope_part][0]+away_from_zero(delta_positions[rope_part-1][0]/2),\n",
    "                        positions[rope_part][1]+away_from_zero(delta_positions[rope_part-1][1]/2)\n",
    "                    ]\n",
    "        if rope_part != 9: # No further delta_positions determination for tail\n",
    "            delta_positions.append([new_positions[rope_part][0]-positions[rope_part+1][0], new_positions[rope_part][1]-positions[rope_part+1][1]])\n",
    "\n",
    "    return new_positions, (new_positions[9][0],new_positions[9][1])"
   ]
  },
  {
   "cell_type": "code",
   "execution_count": 14,
   "metadata": {},
   "outputs": [
    {
     "name": "stdout",
     "output_type": "stream",
     "text": [
      "2259\n"
     ]
    }
   ],
   "source": [
    "position_rope = [[0,0],[0,0],[0,0],[0,0],[0,0],[0,0],[0,0],[0,0],[0,0],[0,0]]\n",
    "visited = set()\n",
    "\n",
    "for instruction in input_data.splitlines():\n",
    "    direction, distance = instruction.split()\n",
    "    for i in range(int(distance)):\n",
    "        position_rope, tuple_position_tail = move_rope(positions=position_rope, direction_head=direction)\n",
    "        visited.add(tuple_position_tail)\n",
    "print(len(visited))"
   ]
  },
  {
   "cell_type": "markdown",
   "metadata": {},
   "source": [
    "# Day 10"
   ]
  },
  {
   "cell_type": "markdown",
   "metadata": {},
   "source": [
    "### Data"
   ]
  },
  {
   "cell_type": "code",
   "execution_count": null,
   "metadata": {},
   "outputs": [],
   "source": []
  },
  {
   "cell_type": "markdown",
   "metadata": {},
   "source": [
    "### Part 1"
   ]
  },
  {
   "cell_type": "code",
   "execution_count": null,
   "metadata": {},
   "outputs": [],
   "source": []
  },
  {
   "cell_type": "markdown",
   "metadata": {},
   "source": [
    "### Part 2"
   ]
  },
  {
   "cell_type": "code",
   "execution_count": null,
   "metadata": {},
   "outputs": [],
   "source": []
  },
  {
   "cell_type": "markdown",
   "metadata": {},
   "source": [
    "# Day 11"
   ]
  },
  {
   "cell_type": "markdown",
   "metadata": {},
   "source": [
    "## Data"
   ]
  },
  {
   "cell_type": "code",
   "execution_count": null,
   "metadata": {},
   "outputs": [],
   "source": []
  },
  {
   "cell_type": "markdown",
   "metadata": {},
   "source": [
    "## Part 1"
   ]
  },
  {
   "cell_type": "markdown",
   "metadata": {},
   "source": [
    "### Functions"
   ]
  },
  {
   "cell_type": "code",
   "execution_count": null,
   "metadata": {},
   "outputs": [],
   "source": []
  },
  {
   "cell_type": "markdown",
   "metadata": {},
   "source": [
    "### Code"
   ]
  },
  {
   "cell_type": "code",
   "execution_count": null,
   "metadata": {},
   "outputs": [],
   "source": []
  },
  {
   "cell_type": "markdown",
   "metadata": {},
   "source": [
    "## Part 2"
   ]
  },
  {
   "cell_type": "markdown",
   "metadata": {},
   "source": [
    "### Functions"
   ]
  },
  {
   "cell_type": "code",
   "execution_count": null,
   "metadata": {},
   "outputs": [],
   "source": []
  },
  {
   "cell_type": "markdown",
   "metadata": {},
   "source": [
    "### Code"
   ]
  },
  {
   "cell_type": "code",
   "execution_count": null,
   "metadata": {},
   "outputs": [],
   "source": []
  },
  {
   "cell_type": "markdown",
   "metadata": {},
   "source": [
    "# Day 12"
   ]
  },
  {
   "cell_type": "markdown",
   "metadata": {},
   "source": [
    "## Data"
   ]
  },
  {
   "cell_type": "code",
   "execution_count": null,
   "metadata": {},
   "outputs": [],
   "source": []
  },
  {
   "cell_type": "markdown",
   "metadata": {},
   "source": [
    "## Part 1"
   ]
  },
  {
   "cell_type": "markdown",
   "metadata": {},
   "source": [
    "### Functions"
   ]
  },
  {
   "cell_type": "code",
   "execution_count": null,
   "metadata": {},
   "outputs": [],
   "source": []
  },
  {
   "cell_type": "markdown",
   "metadata": {},
   "source": [
    "### Code"
   ]
  },
  {
   "cell_type": "code",
   "execution_count": null,
   "metadata": {},
   "outputs": [],
   "source": []
  },
  {
   "cell_type": "markdown",
   "metadata": {},
   "source": [
    "## Part 2"
   ]
  },
  {
   "cell_type": "markdown",
   "metadata": {},
   "source": [
    "### Functions"
   ]
  },
  {
   "cell_type": "code",
   "execution_count": null,
   "metadata": {},
   "outputs": [],
   "source": []
  },
  {
   "cell_type": "markdown",
   "metadata": {},
   "source": [
    "### Code"
   ]
  },
  {
   "cell_type": "code",
   "execution_count": null,
   "metadata": {},
   "outputs": [],
   "source": []
  },
  {
   "cell_type": "markdown",
   "metadata": {},
   "source": [
    "# Day 13"
   ]
  },
  {
   "cell_type": "markdown",
   "metadata": {},
   "source": [
    "## Data"
   ]
  },
  {
   "cell_type": "code",
   "execution_count": null,
   "metadata": {},
   "outputs": [],
   "source": []
  },
  {
   "cell_type": "markdown",
   "metadata": {},
   "source": [
    "## Part 1"
   ]
  },
  {
   "cell_type": "markdown",
   "metadata": {},
   "source": [
    "### Functions"
   ]
  },
  {
   "cell_type": "code",
   "execution_count": null,
   "metadata": {},
   "outputs": [],
   "source": []
  },
  {
   "cell_type": "markdown",
   "metadata": {},
   "source": [
    "### Code"
   ]
  },
  {
   "cell_type": "code",
   "execution_count": null,
   "metadata": {},
   "outputs": [],
   "source": []
  },
  {
   "cell_type": "markdown",
   "metadata": {},
   "source": [
    "## Part 2"
   ]
  },
  {
   "cell_type": "markdown",
   "metadata": {},
   "source": [
    "### Functions"
   ]
  },
  {
   "cell_type": "code",
   "execution_count": null,
   "metadata": {},
   "outputs": [],
   "source": []
  },
  {
   "cell_type": "markdown",
   "metadata": {},
   "source": [
    "### Code"
   ]
  },
  {
   "cell_type": "code",
   "execution_count": null,
   "metadata": {},
   "outputs": [],
   "source": []
  },
  {
   "cell_type": "markdown",
   "metadata": {},
   "source": [
    "# Day 14"
   ]
  },
  {
   "cell_type": "markdown",
   "metadata": {},
   "source": [
    "## Data"
   ]
  },
  {
   "cell_type": "code",
   "execution_count": null,
   "metadata": {},
   "outputs": [],
   "source": []
  },
  {
   "cell_type": "markdown",
   "metadata": {},
   "source": [
    "## Part 1"
   ]
  },
  {
   "cell_type": "markdown",
   "metadata": {},
   "source": [
    "### Functions"
   ]
  },
  {
   "cell_type": "code",
   "execution_count": null,
   "metadata": {},
   "outputs": [],
   "source": []
  },
  {
   "cell_type": "markdown",
   "metadata": {},
   "source": [
    "### Code"
   ]
  },
  {
   "cell_type": "code",
   "execution_count": null,
   "metadata": {},
   "outputs": [],
   "source": []
  },
  {
   "cell_type": "markdown",
   "metadata": {},
   "source": [
    "## Part 2"
   ]
  },
  {
   "cell_type": "markdown",
   "metadata": {},
   "source": [
    "### Functions"
   ]
  },
  {
   "cell_type": "code",
   "execution_count": null,
   "metadata": {},
   "outputs": [],
   "source": []
  },
  {
   "cell_type": "markdown",
   "metadata": {},
   "source": [
    "### Code"
   ]
  },
  {
   "cell_type": "code",
   "execution_count": null,
   "metadata": {},
   "outputs": [],
   "source": []
  },
  {
   "cell_type": "markdown",
   "metadata": {},
   "source": [
    "# Day 15"
   ]
  },
  {
   "cell_type": "markdown",
   "metadata": {},
   "source": [
    "## Data"
   ]
  },
  {
   "cell_type": "code",
   "execution_count": null,
   "metadata": {},
   "outputs": [],
   "source": []
  },
  {
   "cell_type": "markdown",
   "metadata": {},
   "source": [
    "## Part 1"
   ]
  },
  {
   "cell_type": "markdown",
   "metadata": {},
   "source": [
    "### Functions"
   ]
  },
  {
   "cell_type": "code",
   "execution_count": null,
   "metadata": {},
   "outputs": [],
   "source": []
  },
  {
   "cell_type": "markdown",
   "metadata": {},
   "source": [
    "### Code"
   ]
  },
  {
   "cell_type": "code",
   "execution_count": null,
   "metadata": {},
   "outputs": [],
   "source": []
  },
  {
   "cell_type": "markdown",
   "metadata": {},
   "source": [
    "## Part 2"
   ]
  },
  {
   "cell_type": "markdown",
   "metadata": {},
   "source": [
    "### Functions"
   ]
  },
  {
   "cell_type": "code",
   "execution_count": null,
   "metadata": {},
   "outputs": [],
   "source": []
  },
  {
   "cell_type": "markdown",
   "metadata": {},
   "source": [
    "### Code"
   ]
  },
  {
   "cell_type": "code",
   "execution_count": null,
   "metadata": {},
   "outputs": [],
   "source": []
  },
  {
   "cell_type": "markdown",
   "metadata": {},
   "source": [
    "# Day 16"
   ]
  },
  {
   "cell_type": "markdown",
   "metadata": {},
   "source": [
    "## Data"
   ]
  },
  {
   "cell_type": "code",
   "execution_count": null,
   "metadata": {},
   "outputs": [],
   "source": []
  },
  {
   "cell_type": "markdown",
   "metadata": {},
   "source": [
    "## Part 1"
   ]
  },
  {
   "cell_type": "markdown",
   "metadata": {},
   "source": [
    "### Functions"
   ]
  },
  {
   "cell_type": "code",
   "execution_count": null,
   "metadata": {},
   "outputs": [],
   "source": []
  },
  {
   "cell_type": "markdown",
   "metadata": {},
   "source": [
    "### Code"
   ]
  },
  {
   "cell_type": "code",
   "execution_count": null,
   "metadata": {},
   "outputs": [],
   "source": []
  },
  {
   "cell_type": "markdown",
   "metadata": {},
   "source": [
    "## Part 2"
   ]
  },
  {
   "cell_type": "markdown",
   "metadata": {},
   "source": [
    "### Functions"
   ]
  },
  {
   "cell_type": "code",
   "execution_count": null,
   "metadata": {},
   "outputs": [],
   "source": []
  },
  {
   "cell_type": "markdown",
   "metadata": {},
   "source": [
    "### Code"
   ]
  },
  {
   "cell_type": "code",
   "execution_count": null,
   "metadata": {},
   "outputs": [],
   "source": []
  },
  {
   "cell_type": "markdown",
   "metadata": {},
   "source": [
    "# Day 17"
   ]
  },
  {
   "cell_type": "markdown",
   "metadata": {},
   "source": [
    "## Data"
   ]
  },
  {
   "cell_type": "code",
   "execution_count": null,
   "metadata": {},
   "outputs": [],
   "source": []
  },
  {
   "cell_type": "markdown",
   "metadata": {},
   "source": [
    "## Part 1"
   ]
  },
  {
   "cell_type": "markdown",
   "metadata": {},
   "source": [
    "### Functions"
   ]
  },
  {
   "cell_type": "code",
   "execution_count": null,
   "metadata": {},
   "outputs": [],
   "source": []
  },
  {
   "cell_type": "markdown",
   "metadata": {},
   "source": [
    "### Code"
   ]
  },
  {
   "cell_type": "code",
   "execution_count": null,
   "metadata": {},
   "outputs": [],
   "source": []
  },
  {
   "cell_type": "markdown",
   "metadata": {},
   "source": [
    "## Part 2"
   ]
  },
  {
   "cell_type": "markdown",
   "metadata": {},
   "source": [
    "### Functions"
   ]
  },
  {
   "cell_type": "code",
   "execution_count": null,
   "metadata": {},
   "outputs": [],
   "source": []
  },
  {
   "cell_type": "markdown",
   "metadata": {},
   "source": [
    "### Code"
   ]
  },
  {
   "cell_type": "code",
   "execution_count": null,
   "metadata": {},
   "outputs": [],
   "source": []
  },
  {
   "cell_type": "markdown",
   "metadata": {},
   "source": [
    "# Day 18"
   ]
  },
  {
   "cell_type": "markdown",
   "metadata": {},
   "source": [
    "## Data"
   ]
  },
  {
   "cell_type": "code",
   "execution_count": null,
   "metadata": {},
   "outputs": [],
   "source": []
  },
  {
   "cell_type": "markdown",
   "metadata": {},
   "source": [
    "## Part 1"
   ]
  },
  {
   "cell_type": "markdown",
   "metadata": {},
   "source": [
    "### Functions"
   ]
  },
  {
   "cell_type": "code",
   "execution_count": null,
   "metadata": {},
   "outputs": [],
   "source": []
  },
  {
   "cell_type": "markdown",
   "metadata": {},
   "source": [
    "### Code"
   ]
  },
  {
   "cell_type": "code",
   "execution_count": null,
   "metadata": {},
   "outputs": [],
   "source": []
  },
  {
   "cell_type": "markdown",
   "metadata": {},
   "source": [
    "## Part 2"
   ]
  },
  {
   "cell_type": "markdown",
   "metadata": {},
   "source": [
    "### Functions"
   ]
  },
  {
   "cell_type": "code",
   "execution_count": null,
   "metadata": {},
   "outputs": [],
   "source": []
  },
  {
   "cell_type": "markdown",
   "metadata": {},
   "source": [
    "### Code"
   ]
  },
  {
   "cell_type": "code",
   "execution_count": null,
   "metadata": {},
   "outputs": [],
   "source": []
  },
  {
   "cell_type": "markdown",
   "metadata": {},
   "source": [
    "# Day 19"
   ]
  },
  {
   "cell_type": "markdown",
   "metadata": {},
   "source": [
    "## Data"
   ]
  },
  {
   "cell_type": "code",
   "execution_count": null,
   "metadata": {},
   "outputs": [],
   "source": []
  },
  {
   "cell_type": "markdown",
   "metadata": {},
   "source": [
    "## Part 1"
   ]
  },
  {
   "cell_type": "markdown",
   "metadata": {},
   "source": [
    "### Functions"
   ]
  },
  {
   "cell_type": "code",
   "execution_count": null,
   "metadata": {},
   "outputs": [],
   "source": []
  },
  {
   "cell_type": "markdown",
   "metadata": {},
   "source": [
    "### Code"
   ]
  },
  {
   "cell_type": "code",
   "execution_count": null,
   "metadata": {},
   "outputs": [],
   "source": []
  },
  {
   "cell_type": "markdown",
   "metadata": {},
   "source": [
    "## Part 2"
   ]
  },
  {
   "cell_type": "markdown",
   "metadata": {},
   "source": [
    "### Functions"
   ]
  },
  {
   "cell_type": "code",
   "execution_count": null,
   "metadata": {},
   "outputs": [],
   "source": []
  },
  {
   "cell_type": "markdown",
   "metadata": {},
   "source": [
    "### Code"
   ]
  },
  {
   "cell_type": "code",
   "execution_count": null,
   "metadata": {},
   "outputs": [],
   "source": []
  },
  {
   "cell_type": "markdown",
   "metadata": {},
   "source": [
    "# Day 20"
   ]
  },
  {
   "cell_type": "markdown",
   "metadata": {},
   "source": [
    "## Data"
   ]
  },
  {
   "cell_type": "code",
   "execution_count": null,
   "metadata": {},
   "outputs": [],
   "source": []
  },
  {
   "cell_type": "markdown",
   "metadata": {},
   "source": [
    "## Part 1"
   ]
  },
  {
   "cell_type": "markdown",
   "metadata": {},
   "source": [
    "### Functions"
   ]
  },
  {
   "cell_type": "code",
   "execution_count": null,
   "metadata": {},
   "outputs": [],
   "source": []
  },
  {
   "cell_type": "markdown",
   "metadata": {},
   "source": [
    "### Code"
   ]
  },
  {
   "cell_type": "code",
   "execution_count": null,
   "metadata": {},
   "outputs": [],
   "source": []
  },
  {
   "cell_type": "markdown",
   "metadata": {},
   "source": [
    "## Part 2"
   ]
  },
  {
   "cell_type": "markdown",
   "metadata": {},
   "source": [
    "### Functions"
   ]
  },
  {
   "cell_type": "code",
   "execution_count": null,
   "metadata": {},
   "outputs": [],
   "source": []
  },
  {
   "cell_type": "markdown",
   "metadata": {},
   "source": [
    "### Code"
   ]
  },
  {
   "cell_type": "code",
   "execution_count": null,
   "metadata": {},
   "outputs": [],
   "source": []
  },
  {
   "cell_type": "markdown",
   "metadata": {},
   "source": [
    "# Day 21"
   ]
  },
  {
   "cell_type": "markdown",
   "metadata": {},
   "source": [
    "## Data"
   ]
  },
  {
   "cell_type": "code",
   "execution_count": null,
   "metadata": {},
   "outputs": [],
   "source": []
  },
  {
   "cell_type": "markdown",
   "metadata": {},
   "source": [
    "## Part 1"
   ]
  },
  {
   "cell_type": "markdown",
   "metadata": {},
   "source": [
    "### Functions"
   ]
  },
  {
   "cell_type": "code",
   "execution_count": null,
   "metadata": {},
   "outputs": [],
   "source": []
  },
  {
   "cell_type": "markdown",
   "metadata": {},
   "source": [
    "### Code"
   ]
  },
  {
   "cell_type": "code",
   "execution_count": null,
   "metadata": {},
   "outputs": [],
   "source": []
  },
  {
   "cell_type": "markdown",
   "metadata": {},
   "source": [
    "## Part 2"
   ]
  },
  {
   "cell_type": "markdown",
   "metadata": {},
   "source": [
    "### Functions"
   ]
  },
  {
   "cell_type": "code",
   "execution_count": null,
   "metadata": {},
   "outputs": [],
   "source": []
  },
  {
   "cell_type": "markdown",
   "metadata": {},
   "source": [
    "### Code"
   ]
  },
  {
   "cell_type": "code",
   "execution_count": null,
   "metadata": {},
   "outputs": [],
   "source": []
  },
  {
   "cell_type": "markdown",
   "metadata": {},
   "source": [
    "# Day 22"
   ]
  },
  {
   "cell_type": "markdown",
   "metadata": {},
   "source": [
    "## Data"
   ]
  },
  {
   "cell_type": "code",
   "execution_count": null,
   "metadata": {},
   "outputs": [],
   "source": []
  },
  {
   "cell_type": "markdown",
   "metadata": {},
   "source": [
    "## Part 1"
   ]
  },
  {
   "cell_type": "markdown",
   "metadata": {},
   "source": [
    "### Functions"
   ]
  },
  {
   "cell_type": "code",
   "execution_count": null,
   "metadata": {},
   "outputs": [],
   "source": []
  },
  {
   "cell_type": "markdown",
   "metadata": {},
   "source": [
    "### Code"
   ]
  },
  {
   "cell_type": "code",
   "execution_count": null,
   "metadata": {},
   "outputs": [],
   "source": []
  },
  {
   "cell_type": "markdown",
   "metadata": {},
   "source": [
    "## Part 2"
   ]
  },
  {
   "cell_type": "markdown",
   "metadata": {},
   "source": [
    "### Functions"
   ]
  },
  {
   "cell_type": "code",
   "execution_count": null,
   "metadata": {},
   "outputs": [],
   "source": []
  },
  {
   "cell_type": "markdown",
   "metadata": {},
   "source": [
    "### Code"
   ]
  },
  {
   "cell_type": "code",
   "execution_count": null,
   "metadata": {},
   "outputs": [],
   "source": []
  },
  {
   "cell_type": "markdown",
   "metadata": {},
   "source": [
    "# Day 23"
   ]
  },
  {
   "cell_type": "markdown",
   "metadata": {},
   "source": [
    "## Data"
   ]
  },
  {
   "cell_type": "code",
   "execution_count": null,
   "metadata": {},
   "outputs": [],
   "source": []
  },
  {
   "cell_type": "markdown",
   "metadata": {},
   "source": [
    "## Part 1"
   ]
  },
  {
   "cell_type": "markdown",
   "metadata": {},
   "source": [
    "### Functions"
   ]
  },
  {
   "cell_type": "code",
   "execution_count": null,
   "metadata": {},
   "outputs": [],
   "source": []
  },
  {
   "cell_type": "markdown",
   "metadata": {},
   "source": [
    "### Code"
   ]
  },
  {
   "cell_type": "code",
   "execution_count": null,
   "metadata": {},
   "outputs": [],
   "source": []
  },
  {
   "cell_type": "markdown",
   "metadata": {},
   "source": [
    "## Part 2"
   ]
  },
  {
   "cell_type": "markdown",
   "metadata": {},
   "source": [
    "### Functions"
   ]
  },
  {
   "cell_type": "code",
   "execution_count": null,
   "metadata": {},
   "outputs": [],
   "source": []
  },
  {
   "cell_type": "markdown",
   "metadata": {},
   "source": [
    "### Code"
   ]
  },
  {
   "cell_type": "code",
   "execution_count": null,
   "metadata": {},
   "outputs": [],
   "source": []
  },
  {
   "cell_type": "markdown",
   "metadata": {},
   "source": [
    "# Day 24"
   ]
  },
  {
   "cell_type": "markdown",
   "metadata": {},
   "source": [
    "## Data"
   ]
  },
  {
   "cell_type": "code",
   "execution_count": null,
   "metadata": {},
   "outputs": [],
   "source": []
  },
  {
   "cell_type": "markdown",
   "metadata": {},
   "source": [
    "## Part 1"
   ]
  },
  {
   "cell_type": "markdown",
   "metadata": {},
   "source": [
    "### Functions"
   ]
  },
  {
   "cell_type": "code",
   "execution_count": null,
   "metadata": {},
   "outputs": [],
   "source": []
  },
  {
   "cell_type": "markdown",
   "metadata": {},
   "source": [
    "### Code"
   ]
  },
  {
   "cell_type": "code",
   "execution_count": null,
   "metadata": {},
   "outputs": [],
   "source": []
  },
  {
   "cell_type": "markdown",
   "metadata": {},
   "source": [
    "## Part 2"
   ]
  },
  {
   "cell_type": "markdown",
   "metadata": {},
   "source": [
    "### Functions"
   ]
  },
  {
   "cell_type": "code",
   "execution_count": null,
   "metadata": {},
   "outputs": [],
   "source": []
  },
  {
   "cell_type": "markdown",
   "metadata": {},
   "source": [
    "### Code"
   ]
  },
  {
   "cell_type": "code",
   "execution_count": null,
   "metadata": {},
   "outputs": [],
   "source": []
  },
  {
   "cell_type": "markdown",
   "metadata": {},
   "source": [
    "# Day 25"
   ]
  },
  {
   "cell_type": "markdown",
   "metadata": {},
   "source": [
    "## Data"
   ]
  },
  {
   "cell_type": "code",
   "execution_count": null,
   "metadata": {},
   "outputs": [],
   "source": []
  },
  {
   "cell_type": "markdown",
   "metadata": {},
   "source": [
    "## Part 1"
   ]
  },
  {
   "cell_type": "markdown",
   "metadata": {},
   "source": [
    "### Functions"
   ]
  },
  {
   "cell_type": "code",
   "execution_count": null,
   "metadata": {},
   "outputs": [],
   "source": []
  },
  {
   "cell_type": "markdown",
   "metadata": {},
   "source": [
    "### Code"
   ]
  },
  {
   "cell_type": "code",
   "execution_count": null,
   "metadata": {},
   "outputs": [],
   "source": []
  },
  {
   "cell_type": "markdown",
   "metadata": {},
   "source": [
    "## Part 2"
   ]
  },
  {
   "cell_type": "markdown",
   "metadata": {},
   "source": [
    "### Functions"
   ]
  },
  {
   "cell_type": "code",
   "execution_count": null,
   "metadata": {},
   "outputs": [],
   "source": []
  },
  {
   "cell_type": "markdown",
   "metadata": {},
   "source": [
    "### Code"
   ]
  },
  {
   "cell_type": "code",
   "execution_count": null,
   "metadata": {},
   "outputs": [],
   "source": []
  }
 ],
 "metadata": {
  "kernelspec": {
   "display_name": "Python 3.9.6 64-bit",
   "language": "python",
   "name": "python3"
  },
  "language_info": {
   "codemirror_mode": {
    "name": "ipython",
    "version": 3
   },
   "file_extension": ".py",
   "mimetype": "text/x-python",
   "name": "python",
   "nbconvert_exporter": "python",
   "pygments_lexer": "ipython3",
   "version": "3.9.6"
  },
  "orig_nbformat": 4,
  "vscode": {
   "interpreter": {
    "hash": "412a67843bc730569eb6291c88878232ac2ff4005175d04214c4619cd3565889"
   }
  }
 },
 "nbformat": 4,
 "nbformat_minor": 2
}
