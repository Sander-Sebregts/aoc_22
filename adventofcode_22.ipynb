{
 "cells": [
  {
   "cell_type": "markdown",
   "metadata": {},
   "source": [
    "# Day 1"
   ]
  },
  {
   "cell_type": "code",
   "execution_count": 1,
   "metadata": {},
   "outputs": [],
   "source": [
    "import re\n",
    "\n",
    "from adventofcodedata_22 import data_day1"
   ]
  },
  {
   "cell_type": "markdown",
   "metadata": {},
   "source": [
    "### Part 1"
   ]
  },
  {
   "cell_type": "code",
   "execution_count": 15,
   "metadata": {},
   "outputs": [
    {
     "name": "stdout",
     "output_type": "stream",
     "text": [
      "71506\n"
     ]
    }
   ],
   "source": [
    "# print(repr(data_day1))\n",
    "elves = data_day1.split(\"\\n\\n\")\n",
    "for i, individual in enumerate(elves):\n",
    "    elves[i] = individual.split(\"\\n\")\n",
    "    for j, calories in enumerate(elves[i]):\n",
    "        elves[i][j] = int(elves[i][j])\n",
    "    elves[i] = sum(elves[i])\n",
    "print(max(elves))"
   ]
  },
  {
   "cell_type": "markdown",
   "metadata": {},
   "source": [
    "### Part 2"
   ]
  },
  {
   "cell_type": "code",
   "execution_count": 19,
   "metadata": {},
   "outputs": [
    {
     "name": "stdout",
     "output_type": "stream",
     "text": [
      "209603\n"
     ]
    }
   ],
   "source": [
    "elves.sort()\n",
    "print(sum(elves[-3:]))"
   ]
  },
  {
   "cell_type": "markdown",
   "metadata": {},
   "source": [
    "# Day 2"
   ]
  },
  {
   "cell_type": "markdown",
   "metadata": {},
   "source": [
    "## Data"
   ]
  },
  {
   "cell_type": "code",
   "execution_count": 1,
   "metadata": {},
   "outputs": [],
   "source": [
    "from adventofcodedata_22 import data_day2\n",
    "\n",
    "# sample_data = []\n",
    "\n",
    "input_data = data_day2"
   ]
  },
  {
   "cell_type": "markdown",
   "metadata": {},
   "source": [
    "## Part 1"
   ]
  },
  {
   "cell_type": "markdown",
   "metadata": {},
   "source": [
    "### Functions"
   ]
  },
  {
   "cell_type": "code",
   "execution_count": 10,
   "metadata": {},
   "outputs": [],
   "source": [
    "def is_win(game):\n",
    "    if (\n",
    "        (game[0] == \"A\" and game[1] == \"Y\")\n",
    "        or (game[0] == \"B\" and game[1] == \"Z\")\n",
    "        or (game[0] == \"C\" and game[1] == \"X\")\n",
    "    ):\n",
    "        return True\n",
    "    else:\n",
    "        return False\n",
    "\n",
    "\n",
    "def is_draw(game):\n",
    "    if (\n",
    "        (game[0] == \"A\" and game[1] == \"X\")\n",
    "        or (game[0] == \"B\" and game[1] == \"Y\")\n",
    "        or (game[0] == \"C\" and game[1] == \"Z\")\n",
    "    ):\n",
    "        return True\n",
    "    else:\n",
    "        return False\n",
    "\n",
    "\n",
    "def get_points(game):\n",
    "    return ord(game[1]) - 87 + 6 * is_win(game) + 3 * is_draw(game)"
   ]
  },
  {
   "cell_type": "markdown",
   "metadata": {},
   "source": [
    "### Code"
   ]
  },
  {
   "cell_type": "code",
   "execution_count": 11,
   "metadata": {},
   "outputs": [],
   "source": [
    "games = input_data.split(\"\\n\")\n",
    "scores = []\n",
    "for i, game in enumerate(games):\n",
    "    try:\n",
    "        games[i] = [game[0], game[2]]\n",
    "        scores.append(get_points(games[i]))\n",
    "    except:\n",
    "        del games[i]\n",
    "\n",
    "print(sum(scores))"
   ]
  },
  {
   "cell_type": "markdown",
   "metadata": {},
   "source": [
    "## Part 2"
   ]
  },
  {
   "cell_type": "markdown",
   "metadata": {},
   "source": [
    "### Functions"
   ]
  },
  {
   "cell_type": "code",
   "execution_count": 28,
   "metadata": {},
   "outputs": [],
   "source": [
    "def is_win_2(game):\n",
    "    if game[1] == \"Z\":\n",
    "        return True\n",
    "    else:\n",
    "        return False\n",
    "\n",
    "\n",
    "def is_draw_2(game):\n",
    "    if game[1] == \"Y\":\n",
    "        return True\n",
    "    else:\n",
    "        return False\n",
    "\n",
    "\n",
    "def my_score(game):\n",
    "    if is_win_2(game):\n",
    "        return (ord(game[0]) - 64) % 3 + 1\n",
    "    if is_draw_2(game):\n",
    "        return ord(game[0]) - 64\n",
    "    else:\n",
    "        return ord(game[0]) % 3 + 1\n",
    "\n",
    "\n",
    "def get_points_2(game):\n",
    "    return my_score(game) + 6 * is_win_2(game) + 3 * is_draw_2(game)"
   ]
  },
  {
   "cell_type": "markdown",
   "metadata": {},
   "source": [
    "### Code"
   ]
  },
  {
   "cell_type": "code",
   "execution_count": 29,
   "metadata": {},
   "outputs": [
    {
     "name": "stdout",
     "output_type": "stream",
     "text": [
      "13726\n"
     ]
    }
   ],
   "source": [
    "scores_2 = []\n",
    "for game in games:\n",
    "    scores_2.append(get_points_2(game))\n",
    "\n",
    "print(sum(scores_2))"
   ]
  },
  {
   "cell_type": "markdown",
   "metadata": {},
   "source": [
    "# Day 3"
   ]
  },
  {
   "cell_type": "markdown",
   "metadata": {},
   "source": [
    "### Data"
   ]
  },
  {
   "cell_type": "code",
   "execution_count": 1,
   "metadata": {},
   "outputs": [],
   "source": [
    "from adventofcodedata_22 import data_day3\n",
    "\n",
    "input_data = data_day3"
   ]
  },
  {
   "cell_type": "markdown",
   "metadata": {},
   "source": [
    "### Part 1"
   ]
  },
  {
   "cell_type": "code",
   "execution_count": 26,
   "metadata": {},
   "outputs": [
    {
     "name": "stdout",
     "output_type": "stream",
     "text": [
      "7763\n"
     ]
    }
   ],
   "source": [
    "sack_contents = input_data.splitlines()\n",
    "\n",
    "total_prio = 0\n",
    "\n",
    "for sack in sack_contents:\n",
    "    comp1 = sack[: len(sack) // 2]\n",
    "    comp2 = sack[len(sack) // 2 :]\n",
    "\n",
    "    double_item = \"\".join(set(comp1) & set(comp2))\n",
    "\n",
    "    item_prio = (\n",
    "        \"abcdefghijklmnopqrstuvwxyzABCDEFGHIJKLMNOPQRSTUVWXYZ\".index(double_item) + 1\n",
    "    )\n",
    "    total_prio += item_prio\n",
    "\n",
    "print(total_prio)"
   ]
  },
  {
   "cell_type": "markdown",
   "metadata": {},
   "source": [
    "### Part 2"
   ]
  },
  {
   "cell_type": "code",
   "execution_count": 27,
   "metadata": {},
   "outputs": [
    {
     "name": "stdout",
     "output_type": "stream",
     "text": [
      "2569\n"
     ]
    }
   ],
   "source": [
    "total_badge_prio = 0\n",
    "\n",
    "for i in range(int(len(sack_contents) / 3)):\n",
    "    sack1 = set(sack_contents[3 * i])\n",
    "    sack2 = set(sack_contents[3 * i + 1])\n",
    "    sack3 = set(sack_contents[3 * i + 2])\n",
    "\n",
    "    badge = \"\".join(sack1 & sack2 & sack3)\n",
    "    badge_prio = \"abcdefghijklmnopqrstuvwxyzABCDEFGHIJKLMNOPQRSTUVWXYZ\".index(badge) + 1\n",
    "\n",
    "    total_badge_prio += badge_prio\n",
    "\n",
    "print(total_badge_prio)"
   ]
  },
  {
   "cell_type": "markdown",
   "metadata": {},
   "source": [
    "# Day 4"
   ]
  },
  {
   "cell_type": "markdown",
   "metadata": {},
   "source": [
    "### Data"
   ]
  },
  {
   "cell_type": "code",
   "execution_count": 6,
   "metadata": {},
   "outputs": [],
   "source": [
    "from adventofcodedata_22 import data_day4\n",
    "\n",
    "import re\n",
    "\n",
    "input_data = data_day4"
   ]
  },
  {
   "cell_type": "markdown",
   "metadata": {},
   "source": [
    "### Part 1"
   ]
  },
  {
   "cell_type": "code",
   "execution_count": 25,
   "metadata": {},
   "outputs": [
    {
     "name": "stdout",
     "output_type": "stream",
     "text": [
      "459\n"
     ]
    }
   ],
   "source": [
    "pairs = input_data.splitlines()\n",
    "overlapping = 0\n",
    "\n",
    "for pair in pairs:\n",
    "    regex = r\"(\\d+)-(\\d+),(\\d+)-(\\d+)\"\n",
    "    m = re.match(\"(\\d+)-(\\d+),(\\d+)-(\\d+)\", pair)\n",
    "    if ((int(m[1]) <= int(m[3])) and (int(m[2]) >= int(m[4]))) or (\n",
    "        (int(m[1]) >= int(m[3])) and (int(m[2]) <= int(m[4]))\n",
    "    ):\n",
    "        overlapping += 1\n",
    "\n",
    "print(overlapping)"
   ]
  },
  {
   "cell_type": "markdown",
   "metadata": {},
   "source": [
    "### Part 2"
   ]
  },
  {
   "cell_type": "code",
   "execution_count": 27,
   "metadata": {},
   "outputs": [
    {
     "name": "stdout",
     "output_type": "stream",
     "text": [
      "779\n"
     ]
    }
   ],
   "source": [
    "overlapping_range = 0\n",
    "\n",
    "for pair in pairs:\n",
    "    regex = r\"(\\d+)-(\\d+),(\\d+)-(\\d+)\"\n",
    "    m = re.match(\"(\\d+)-(\\d+),(\\d+)-(\\d+)\", pair)\n",
    "\n",
    "    if set(range(int(m[1]), int(m[2]) + 1)) & set(range(int(m[3]), int(m[4]) + 1)):\n",
    "        overlapping_range += 1\n",
    "\n",
    "print(overlapping_range)"
   ]
  },
  {
   "cell_type": "markdown",
   "metadata": {},
   "source": [
    "# Day 5"
   ]
  },
  {
   "cell_type": "markdown",
   "metadata": {},
   "source": [
    "### Data"
   ]
  },
  {
   "cell_type": "code",
   "execution_count": 24,
   "metadata": {},
   "outputs": [],
   "source": [
    "from adventofcodedata_22 import data_day5\n",
    "\n",
    "import re\n",
    "\n",
    "input_data = data_day5"
   ]
  },
  {
   "cell_type": "markdown",
   "metadata": {},
   "source": [
    "### Part 1"
   ]
  },
  {
   "cell_type": "code",
   "execution_count": 40,
   "metadata": {},
   "outputs": [
    {
     "name": "stdout",
     "output_type": "stream",
     "text": [
      "QMBMJDFTD\n"
     ]
    }
   ],
   "source": [
    "# Data init\n",
    "lines = input_data.splitlines()\n",
    "zero_lines = [i for i, line in enumerate(lines) if line == \"\"]\n",
    "base_line = lines[zero_lines[1] - 1].split()\n",
    "\n",
    "# Stack matrix init\n",
    "stacks = []\n",
    "for item in base_line:\n",
    "    stacks.append([])\n",
    "\n",
    "for i in range(int(zero_lines[1]) - 2, int(zero_lines[0]), -1):\n",
    "    row = lines[i]\n",
    "    for col_index in range(0, int(max(base_line))):\n",
    "        if row[4 * col_index + 1] != \" \":\n",
    "            stacks[col_index].append(row[4 * col_index + 1])\n",
    "\n",
    "# Isolate instructions\n",
    "for i in range(int(zero_lines[1]) + 1, len(lines)):\n",
    "    instruction = lines[i]\n",
    "    m = re.match(r\"move (\\d+) from (\\d+) to (\\d+)\", instruction)\n",
    "    # Execute instruction\n",
    "    for times in range(int(m[1])):\n",
    "        stacks[int(m[3]) - 1].append(stacks[int(m[2]) - 1].pop())\n",
    "\n",
    "# Fetch output\n",
    "output = []\n",
    "for i in range(int(max(base_line))):\n",
    "    output.append(stacks[i][-1])\n",
    "\n",
    "print(\"\".join(output))"
   ]
  },
  {
   "cell_type": "markdown",
   "metadata": {},
   "source": [
    "### Part 2"
   ]
  },
  {
   "cell_type": "code",
   "execution_count": 42,
   "metadata": {},
   "outputs": [
    {
     "name": "stdout",
     "output_type": "stream",
     "text": [
      "NBTVTJNFJ\n"
     ]
    }
   ],
   "source": [
    "# Stack matrix init (again, could've been a method)\n",
    "stacks = []\n",
    "for item in base_line:\n",
    "    stacks.append([])\n",
    "\n",
    "for i in range(int(zero_lines[1]) - 2, int(zero_lines[0]), -1):\n",
    "    row = lines[i]\n",
    "    for col_index in range(0, int(max(base_line))):\n",
    "        if row[4 * col_index + 1] != \" \":\n",
    "            stacks[col_index].append(row[4 * col_index + 1])\n",
    "\n",
    "# Isolate instructions\n",
    "for i in range(int(zero_lines[1]) + 1, len(lines)):\n",
    "    instruction = lines[i]\n",
    "    m = re.match(r\"move (\\d+) from (\\d+) to (\\d+)\", instruction)\n",
    "    # Execute instruction (yes I could've made a function for this, didn't)\n",
    "    stacks[int(m[3]) - 1].extend(stacks[int(m[2]) - 1][-int(m[1]) :])\n",
    "    del stacks[int(m[2]) - 1][-int(m[1]) :]\n",
    "\n",
    "# Fetch output\n",
    "output = []\n",
    "for i in range(int(max(base_line))):\n",
    "    output.append(stacks[i][-1])\n",
    "\n",
    "print(\"\".join(output))"
   ]
  },
  {
   "cell_type": "markdown",
   "metadata": {},
   "source": [
    "# Day 6"
   ]
  },
  {
   "cell_type": "markdown",
   "metadata": {},
   "source": [
    "### Data"
   ]
  },
  {
   "cell_type": "code",
   "execution_count": 1,
   "metadata": {},
   "outputs": [],
   "source": [
    "from adventofcodedata_22 import data_day6\n",
    "\n",
    "input_data = data_day6"
   ]
  },
  {
   "cell_type": "markdown",
   "metadata": {},
   "source": [
    "### Part 1"
   ]
  },
  {
   "cell_type": "code",
   "execution_count": 4,
   "metadata": {},
   "outputs": [
    {
     "name": "stdout",
     "output_type": "stream",
     "text": [
      "1896\n"
     ]
    }
   ],
   "source": [
    "for i in range(4, len(input_data)):\n",
    "    if len(set(input_data[i - 4 : i])) == 4:\n",
    "        print(i)\n",
    "        break"
   ]
  },
  {
   "cell_type": "markdown",
   "metadata": {},
   "source": [
    "### Part 2"
   ]
  },
  {
   "cell_type": "code",
   "execution_count": 5,
   "metadata": {},
   "outputs": [
    {
     "name": "stdout",
     "output_type": "stream",
     "text": [
      "3452\n"
     ]
    }
   ],
   "source": [
    "for i in range(14, len(input_data)):\n",
    "    if len(set(input_data[i - 14 : i])) == 14:\n",
    "        print(i)\n",
    "        break"
   ]
  },
  {
   "cell_type": "markdown",
   "metadata": {},
   "source": [
    "# Day 7"
   ]
  },
  {
   "cell_type": "markdown",
   "metadata": {},
   "source": [
    "### Data"
   ]
  },
  {
   "cell_type": "code",
   "execution_count": 2,
   "metadata": {},
   "outputs": [],
   "source": [
    "from adventofcodedata_22 import data_day7, test_data_day7\n",
    "\n",
    "import re\n",
    "\n",
    "input_data = data_day7\n",
    "test_data = test_data_day7"
   ]
  },
  {
   "cell_type": "markdown",
   "metadata": {},
   "source": [
    "### Part 1"
   ]
  },
  {
   "cell_type": "code",
   "execution_count": 20,
   "metadata": {},
   "outputs": [],
   "source": [
    "from typing import Optional\n",
    "\n",
    "\n",
    "class Directory:\n",
    "    def __init__(self, name, parent=Optional[\"Directory\"]) -> None:\n",
    "        self.name = name\n",
    "        self.parent = parent\n",
    "        self.subdirs = {}\n",
    "        self.files = {}\n",
    "\n",
    "    def get_size(self) -> int:\n",
    "        file_size = sum(value for value in self.files.values())\n",
    "        subdir_size = sum(subdir.get_size() for subdir in self.subdirs.values())\n",
    "        return file_size + subdir_size\n",
    "\n",
    "    def return_small_folders(self, max_size: int, found_so_far: list[\"Directory\"] = []):\n",
    "        if self.get_size() < max_size:\n",
    "            found_so_far.append(self)\n",
    "\n",
    "        for subdir in self.subdirs.values():\n",
    "            found_so_far = subdir.return_small_folders(\n",
    "                max_size=max_size, found_so_far=found_so_far\n",
    "            )\n",
    "\n",
    "        return found_so_far\n",
    "\n",
    "    def return_large_folders(self, max_size: int, found_so_far: list[\"Directory\"] = []):\n",
    "        if self.get_size() > max_size:\n",
    "            found_so_far.append(self)\n",
    "\n",
    "        for subdir in self.subdirs.values():\n",
    "            found_so_far = subdir.return_large_folders(\n",
    "                max_size=max_size, found_so_far=found_so_far\n",
    "            )\n",
    "\n",
    "        return found_so_far"
   ]
  },
  {
   "cell_type": "code",
   "execution_count": 21,
   "metadata": {},
   "outputs": [],
   "source": [
    "root = Directory(name=\"root\")\n",
    "current_folder = root\n",
    "\n",
    "for terminal_output in input_data.splitlines():\n",
    "    if terminal_output[0] == \"$\":\n",
    "        if terminal_output == \"$ cd ..\":\n",
    "            curr_pos = curr_pos.parent\n",
    "        elif \"cd /\" in terminal_output:\n",
    "            curr_pos = root\n",
    "        elif \"cd\" in terminal_output:\n",
    "            dir_name = terminal_output.split()[2]\n",
    "            curr_pos = curr_pos.subdirs[dir_name]\n",
    "    else:\n",
    "        if terminal_output.startswith(\"dir\"):\n",
    "            dir_name = terminal_output.split()[1]\n",
    "            curr_pos.subdirs[dir_name] = Directory(name=dir_name, parent=curr_pos)\n",
    "        else:\n",
    "            size, name = terminal_output.split()\n",
    "            curr_pos.files[name] = int(size)"
   ]
  },
  {
   "cell_type": "code",
   "execution_count": 22,
   "metadata": {},
   "outputs": [
    {
     "data": {
      "text/plain": [
       "1391690"
      ]
     },
     "execution_count": 22,
     "metadata": {},
     "output_type": "execute_result"
    }
   ],
   "source": [
    "sum(\n",
    "    directory.get_size()\n",
    "    for directory in root.return_small_folders(max_size=100000, found_so_far=[])\n",
    ")"
   ]
  },
  {
   "cell_type": "markdown",
   "metadata": {},
   "source": [
    "### Part 2"
   ]
  },
  {
   "cell_type": "code",
   "execution_count": 23,
   "metadata": {},
   "outputs": [
    {
     "name": "stdout",
     "output_type": "stream",
     "text": [
      "5469168\n"
     ]
    }
   ],
   "source": [
    "total_space = 70000000\n",
    "requested_space = 30000000\n",
    "root_size = root.get_size()\n",
    "\n",
    "min_delete_size = root_size + requested_space - total_space\n",
    "larger_folders = root.return_large_folders(max_size=min_delete_size, found_so_far=[])\n",
    "folder_size = min(folder.get_size() for folder in larger_folders)\n",
    "\n",
    "print(folder_size)"
   ]
  },
  {
   "cell_type": "markdown",
   "metadata": {},
   "source": [
    "# Day8"
   ]
  },
  {
   "cell_type": "markdown",
   "metadata": {},
   "source": [
    "### Data"
   ]
  },
  {
   "cell_type": "code",
   "execution_count": 13,
   "metadata": {},
   "outputs": [],
   "source": [
    "from adventofcodedata_22 import data_day8\n",
    "\n",
    "import numpy as np\n",
    "import matplotlib.pyplot as plt\n",
    "\n",
    "input_data = data_day8"
   ]
  },
  {
   "cell_type": "markdown",
   "metadata": {},
   "source": [
    "\n",
    "### Part 1"
   ]
  },
  {
   "cell_type": "code",
   "execution_count": 43,
   "metadata": {},
   "outputs": [],
   "source": [
    "dims = len(input_data)\n",
    "\n",
    "visible_mask = np.zeros((dims, dims))\n",
    "\n",
    "# only left->right\n",
    "for row_idx, row in enumerate(input_data):\n",
    "    lowest = -1\n",
    "    for col_idx, col_value in enumerate(row):\n",
    "        if col_value > lowest:\n",
    "            visible_mask[row_idx, col_idx] = 1\n",
    "            lowest = col_value\n",
    "\n",
    "# only right->left\n",
    "for row_idx, row in enumerate(input_data):\n",
    "    lowest = -1\n",
    "    for col_idx, col_value in reversed(list(enumerate(row))):\n",
    "        if col_value > lowest:\n",
    "            visible_mask[row_idx, col_idx] = 1\n",
    "            lowest = col_value\n",
    "\n",
    "# the other two\n",
    "for col_idx, col in enumerate(np.transpose(input_data)):\n",
    "    lowest = -1\n",
    "    for row_idx, row_value in enumerate(col):\n",
    "        if row_value > lowest:\n",
    "            visible_mask[row_idx, col_idx] = 1\n",
    "            lowest = row_value\n",
    "\n",
    "for col_idx, col in enumerate(np.transpose(input_data)):\n",
    "    lowest = -1\n",
    "    for row_idx, row_value in reversed(list(enumerate(col))):\n",
    "        if row_value > lowest:\n",
    "            visible_mask[row_idx, col_idx] = 1\n",
    "            lowest = row_value"
   ]
  },
  {
   "cell_type": "code",
   "execution_count": 44,
   "metadata": {},
   "outputs": [
    {
     "data": {
      "text/plain": [
       "<matplotlib.image.AxesImage at 0x1ce9412d870>"
      ]
     },
     "execution_count": 44,
     "metadata": {},
     "output_type": "execute_result"
    },
    {
     "data": {
      "image/png": "[encoded data removed]",
      "text/plain": [
       "<Figure size 640x480 with 1 Axes>"
      ]
     },
     "metadata": {},
     "output_type": "display_data"
    }
   ],
   "source": [
    "plt.imshow(visible_mask)"
   ]
  },
  {
   "cell_type": "code",
   "execution_count": 46,
   "metadata": {},
   "outputs": [
    {
     "name": "stdout",
     "output_type": "stream",
     "text": [
      "1776\n"
     ]
    }
   ],
   "source": [
    "print(int(visible_mask.sum()))"
   ]
  },
  {
   "cell_type": "markdown",
   "metadata": {},
   "source": [
    "### Part 2"
   ]
  },
  {
   "cell_type": "code",
   "execution_count": 62,
   "metadata": {},
   "outputs": [],
   "source": [
    "def view_distance(grid, location):\n",
    "    max_dim = len(grid)\n",
    "    consideration_height = grid[location[0]][location[1]]\n",
    "    view_distances = [0, 0, 0, 0]\n",
    "    for dy in range(location[0] + 1, max_dim):\n",
    "        view_distances[0] += 1\n",
    "        if grid[dy][location[1]] >= consideration_height:\n",
    "            break\n",
    "\n",
    "    for dy in range(location[0] - 1, -1, -1):\n",
    "        view_distances[1] += 1\n",
    "        if grid[dy][location[1]] >= consideration_height:\n",
    "            break\n",
    "\n",
    "    for dx in range(location[1] + 1, max_dim):\n",
    "        view_distances[2] += 1\n",
    "        if grid[location[0]][dx] >= consideration_height:\n",
    "            break\n",
    "\n",
    "    for dx in range(location[1] - 1, -1, -1):\n",
    "        view_distances[3] += 1\n",
    "        if grid[location[0]][dx] >= consideration_height:\n",
    "            break\n",
    "\n",
    "    return view_distances"
   ]
  },
  {
   "cell_type": "code",
   "execution_count": 64,
   "metadata": {},
   "outputs": [
    {
     "data": {
      "text/plain": [
       "<matplotlib.image.AxesImage at 0x1ce9439b220>"
      ]
     },
     "execution_count": 64,
     "metadata": {},
     "output_type": "execute_result"
    },
    {
     "data": {
      "image/png": "[encoded data removed]",
      "text/plain": [
       "<Figure size 640x480 with 1 Axes>"
      ]
     },
     "metadata": {},
     "output_type": "display_data"
    }
   ],
   "source": [
    "from functools import reduce\n",
    "\n",
    "scenic_values = np.zeros((dims, dims))\n",
    "\n",
    "for x in range(1, dims - 1):\n",
    "    for y in range(1, dims - 1):\n",
    "        scenic_values[x, y] = reduce(\n",
    "            lambda x, y: x * y, view_distance(grid=input_data, location=[x, y])\n",
    "        )\n",
    "\n",
    "plt.imshow(scenic_values)"
   ]
  },
  {
   "cell_type": "code",
   "execution_count": 66,
   "metadata": {},
   "outputs": [
    {
     "data": {
      "text/plain": [
       "234416"
      ]
     },
     "execution_count": 66,
     "metadata": {},
     "output_type": "execute_result"
    }
   ],
   "source": [
    "int(scenic_values.max())"
   ]
  },
  {
   "cell_type": "markdown",
   "metadata": {},
   "source": [
    "# Day 9"
   ]
  },
  {
   "cell_type": "markdown",
   "metadata": {},
   "source": [
    "### Data"
   ]
  },
  {
   "cell_type": "code",
   "execution_count": 2,
   "metadata": {},
   "outputs": [],
   "source": [
    "from adventofcodedata_22 import data_day9\n",
    "\n",
    "input_data = data_day9"
   ]
  },
  {
   "cell_type": "markdown",
   "metadata": {},
   "source": [
    "### Part 1"
   ]
  },
  {
   "cell_type": "code",
   "execution_count": 9,
   "metadata": {},
   "outputs": [],
   "source": [
    "import math\n",
    "\n",
    "\n",
    "def away_from_zero(x):\n",
    "    return int(math.floor(x) if x < 0 else math.ceil(x))\n",
    "\n",
    "\n",
    "def move_head_tail(position_head, position_tail, direction):\n",
    "    new_position_head = [\n",
    "        position_head[0] + int(direction == \"R\") - int(direction == \"L\"),\n",
    "        position_head[1] + int(direction == \"U\") - int(direction == \"D\"),\n",
    "    ]\n",
    "\n",
    "    delta_pos = [\n",
    "        head_coord - tail_coord\n",
    "        for (head_coord, tail_coord) in zip(new_position_head, position_tail)\n",
    "    ]\n",
    "\n",
    "    if max(abs(delta_pos[0]), abs(delta_pos[1])) > 1:\n",
    "        new_position_tail = [\n",
    "            position_tail[0] + away_from_zero(delta_pos[0] / 2),\n",
    "            position_tail[1] + away_from_zero(delta_pos[1] / 2),\n",
    "        ]\n",
    "    else:\n",
    "        new_position_tail = position_tail\n",
    "\n",
    "    return (\n",
    "        new_position_head,\n",
    "        new_position_tail,\n",
    "        (new_position_tail[0], new_position_tail[1]),\n",
    "    )"
   ]
  },
  {
   "cell_type": "code",
   "execution_count": 48,
   "metadata": {},
   "outputs": [
    {
     "name": "stdout",
     "output_type": "stream",
     "text": [
      "5710\n"
     ]
    }
   ],
   "source": [
    "visited = set()\n",
    "position_head = [0, 0]\n",
    "position_tail = [0, 0]\n",
    "\n",
    "for instruction in input_data.splitlines():\n",
    "    direction, distance = instruction.split()\n",
    "    for i in range(int(distance)):\n",
    "        position_head, position_tail, tuple_position_tail = move_head_tail(\n",
    "            position_head=position_head,\n",
    "            position_tail=position_tail,\n",
    "            direction=direction,\n",
    "        )\n",
    "        visited.add(tuple_position_tail)\n",
    "print(len(visited))"
   ]
  },
  {
   "cell_type": "markdown",
   "metadata": {},
   "source": [
    "### Part 2"
   ]
  },
  {
   "cell_type": "code",
   "execution_count": 10,
   "metadata": {},
   "outputs": [],
   "source": [
    "def move_rope(positions, direction_head):\n",
    "    new_positions = positions\n",
    "    delta_positions = []\n",
    "    for rope_part in range(10):\n",
    "        if rope_part == 0:  # Head follows external instruction\n",
    "            new_positions[rope_part] = [\n",
    "                positions[rope_part][0]\n",
    "                + int(direction_head == \"R\")\n",
    "                - int(direction_head == \"L\"),\n",
    "                positions[rope_part][1]\n",
    "                + int(direction_head == \"U\")\n",
    "                - int(direction_head == \"D\"),\n",
    "            ]\n",
    "        else:  # Parts follow preceding parts, difference between parts x and x+1 is stored in delta_positions[x]\n",
    "            if (\n",
    "                max(\n",
    "                    abs(delta_positions[rope_part - 1][0]),\n",
    "                    abs(delta_positions[rope_part - 1][1]),\n",
    "                )\n",
    "                > 1\n",
    "            ):\n",
    "                new_positions[rope_part] = [\n",
    "                    positions[rope_part][0]\n",
    "                    + away_from_zero(delta_positions[rope_part - 1][0] / 2),\n",
    "                    positions[rope_part][1]\n",
    "                    + away_from_zero(delta_positions[rope_part - 1][1] / 2),\n",
    "                ]\n",
    "        if rope_part != 9:  # No further delta_positions determination for tail\n",
    "            delta_positions.append(\n",
    "                [\n",
    "                    new_positions[rope_part][0] - positions[rope_part + 1][0],\n",
    "                    new_positions[rope_part][1] - positions[rope_part + 1][1],\n",
    "                ]\n",
    "            )\n",
    "\n",
    "    return new_positions, (new_positions[9][0], new_positions[9][1])"
   ]
  },
  {
   "cell_type": "code",
   "execution_count": 14,
   "metadata": {},
   "outputs": [
    {
     "name": "stdout",
     "output_type": "stream",
     "text": [
      "2259\n"
     ]
    }
   ],
   "source": [
    "position_rope = [[0, 0] for _ in range(10)]\n",
    "visited = set()\n",
    "\n",
    "for instruction in input_data.splitlines():\n",
    "    direction, distance = instruction.split()\n",
    "    for i in range(int(distance)):\n",
    "        position_rope, tuple_position_tail = move_rope(\n",
    "            positions=position_rope, direction_head=direction\n",
    "        )\n",
    "        visited.add(tuple_position_tail)\n",
    "print(len(visited))"
   ]
  },
  {
   "cell_type": "markdown",
   "metadata": {},
   "source": [
    "# Day 10"
   ]
  },
  {
   "cell_type": "markdown",
   "metadata": {},
   "source": [
    "### Data"
   ]
  },
  {
   "cell_type": "code",
   "execution_count": 11,
   "metadata": {},
   "outputs": [],
   "source": [
    "from adventofcodedata_22 import data_day10\n",
    "\n",
    "input_data = data_day10"
   ]
  },
  {
   "cell_type": "markdown",
   "metadata": {},
   "source": [
    "### Part 1"
   ]
  },
  {
   "cell_type": "code",
   "execution_count": 17,
   "metadata": {},
   "outputs": [
    {
     "name": "stdout",
     "output_type": "stream",
     "text": [
      "13060\n"
     ]
    }
   ],
   "source": [
    "operations = input_data.splitlines()\n",
    "\n",
    "strengths = []\n",
    "cycle = 0\n",
    "x = 1\n",
    "adding = 0\n",
    "\n",
    "for op in operations:\n",
    "    # Immediate cycle update (register updates happen AFTER cycle, not during)\n",
    "    cycle += 1\n",
    "    if (cycle + 20) % 40 == 0:\n",
    "        strengths.append(cycle * x)\n",
    "\n",
    "    # Determine if add operation\n",
    "    if \"addx\" in op:\n",
    "        adding = int(op.split()[1])\n",
    "\n",
    "    # If add, use another cycle\n",
    "    if adding != 0:\n",
    "        cycle += 1\n",
    "        if (cycle + 20) % 40 == 0:\n",
    "            strengths.append(cycle * x)\n",
    "        x += adding\n",
    "        adding = 0\n",
    "\n",
    "print(sum(strengths))"
   ]
  },
  {
   "cell_type": "markdown",
   "metadata": {},
   "source": [
    "### Part 2"
   ]
  },
  {
   "cell_type": "code",
   "execution_count": 25,
   "metadata": {},
   "outputs": [],
   "source": [
    "import numpy as np\n",
    "import matplotlib.pyplot as plt"
   ]
  },
  {
   "cell_type": "code",
   "execution_count": 26,
   "metadata": {},
   "outputs": [],
   "source": [
    "cycle = 0\n",
    "x = 1\n",
    "adding = 0\n",
    "screen = np.zeros((6, 40))"
   ]
  },
  {
   "cell_type": "code",
   "execution_count": 27,
   "metadata": {},
   "outputs": [],
   "source": [
    "def draw_pixel(screen, cycle, sprite_location):\n",
    "    row = cycle // 40\n",
    "    col = cycle % 40\n",
    "\n",
    "    if abs(sprite_location - col) < 2:\n",
    "        char = 1\n",
    "    else:\n",
    "        char = 0\n",
    "    screen[row, col] = char\n",
    "\n",
    "    return screen"
   ]
  },
  {
   "cell_type": "code",
   "execution_count": 28,
   "metadata": {},
   "outputs": [],
   "source": [
    "for op in operations:\n",
    "    # Immediate cycle update (register updates happen AFTER cycle, not during)\n",
    "    draw_pixel(screen=screen, cycle=cycle, sprite_location=x)\n",
    "    cycle += 1\n",
    "\n",
    "    # Determine if add operation\n",
    "    if \"addx\" in op:\n",
    "        adding = int(op.split()[1])\n",
    "\n",
    "    # If add, use another cycle\n",
    "    if adding != 0:\n",
    "        draw_pixel(screen=screen, cycle=cycle, sprite_location=x)\n",
    "        cycle += 1\n",
    "        x += adding\n",
    "        adding = 0"
   ]
  },
  {
   "cell_type": "code",
   "execution_count": 29,
   "metadata": {},
   "outputs": [
    {
     "data": {
      "text/plain": [
       "<matplotlib.image.AxesImage at 0x1fd4d157ca0>"
      ]
     },
     "execution_count": 29,
     "metadata": {},
     "output_type": "execute_result"
    },
    {
     "data": {
      "image/png": "[encoded data removed]",
      "text/plain": [
       "<Figure size 432x288 with 1 Axes>"
      ]
     },
     "metadata": {
      "needs_background": "light"
     },
     "output_type": "display_data"
    }
   ],
   "source": [
    "plt.imshow(screen)"
   ]
  },
  {
   "cell_type": "markdown",
   "metadata": {},
   "source": [
    "# Day 11"
   ]
  },
  {
   "cell_type": "markdown",
   "metadata": {},
   "source": [
    "## Data"
   ]
  },
  {
   "cell_type": "code",
   "execution_count": 16,
   "metadata": {},
   "outputs": [],
   "source": [
    "from adventofcodedata_22 import data_day11\n",
    "\n",
    "input_data = data_day11"
   ]
  },
  {
   "cell_type": "markdown",
   "metadata": {},
   "source": [
    "## Part 1"
   ]
  },
  {
   "cell_type": "markdown",
   "metadata": {},
   "source": [
    "### Functions"
   ]
  },
  {
   "cell_type": "code",
   "execution_count": 17,
   "metadata": {},
   "outputs": [],
   "source": [
    "class ChaosMonkey:\n",
    "    def __init__(self, defining_code: str) -> None:\n",
    "        self.operation_code = defining_code.splitlines()[2].split(\"=\")[1]\n",
    "        self.test = defining_code.splitlines()[3:]\n",
    "\n",
    "    def test_items(self, items: list) -> list[tuple]:\n",
    "        pass_around_list = []\n",
    "        for item in items:\n",
    "            if item % int(self.test[0][21:]) == 0:\n",
    "                pass_around_list.append((item, int(self.test[1][-1])))\n",
    "            else:\n",
    "                pass_around_list.append((item, int(self.test[2][-1])))\n",
    "        return pass_around_list\n",
    "\n",
    "    def pass_items(self, items: list) -> list[tuple]:\n",
    "        new = []\n",
    "        for old in items:\n",
    "            new.append(eval(self.operation_code) // 3)\n",
    "\n",
    "        return self.test_items(items=new)\n",
    "\n",
    "\n",
    "def loop_monkeys(\n",
    "    loop_count: int, monkeys: list[ChaosMonkey], items: list[list[int]]\n",
    ") -> list:\n",
    "    monkey_operations = [0 for _ in monkeys]\n",
    "    for i in range(loop_count):\n",
    "        for idx, monkey in enumerate(monkeys):\n",
    "            monkey_operations[idx] += len(items[idx])\n",
    "            new_items = monkey.pass_items(items=items[idx])\n",
    "\n",
    "            for item in new_items:\n",
    "                items[item[1]].append(item[0])\n",
    "            items[idx] = []\n",
    "\n",
    "    return monkey_operations"
   ]
  },
  {
   "cell_type": "markdown",
   "metadata": {},
   "source": [
    "### Code"
   ]
  },
  {
   "cell_type": "code",
   "execution_count": 18,
   "metadata": {},
   "outputs": [
    {
     "data": {
      "text/plain": [
       "57838"
      ]
     },
     "execution_count": 18,
     "metadata": {},
     "output_type": "execute_result"
    }
   ],
   "source": [
    "import heapq\n",
    "from functools import reduce\n",
    "\n",
    "list_of_chaos_monkeys = []\n",
    "items_per_monkey = []\n",
    "for monkey in input_data.split(\"\\n\\n\"):\n",
    "    list_of_chaos_monkeys.append(ChaosMonkey(defining_code=monkey))\n",
    "    items_per_monkey.append(\n",
    "        [int(item) for item in monkey.splitlines()[1].split(\":\")[1].split(\",\")]\n",
    "    )\n",
    "\n",
    "reduce(\n",
    "    lambda x, y: x * y,\n",
    "    heapq.nlargest(\n",
    "        2,\n",
    "        loop_monkeys(\n",
    "            loop_count=20, monkeys=list_of_chaos_monkeys, items=items_per_monkey\n",
    "        ),\n",
    "    ),\n",
    ")"
   ]
  },
  {
   "cell_type": "markdown",
   "metadata": {},
   "source": [
    "## Part 2"
   ]
  },
  {
   "cell_type": "markdown",
   "metadata": {},
   "source": [
    "### Functions"
   ]
  },
  {
   "cell_type": "code",
   "execution_count": 22,
   "metadata": {},
   "outputs": [],
   "source": [
    "class ChaosMonkey_pt2:\n",
    "    def __init__(self, defining_code: str) -> None:\n",
    "        self.operation_code = defining_code.splitlines()[2].split(\"=\")[1]\n",
    "        self.test = defining_code.splitlines()[3:]\n",
    "\n",
    "    def test_items(self, items: list) -> list[tuple]:\n",
    "        pass_around_list = []\n",
    "        for item in items:\n",
    "            if item % int(self.test[0][21:]) == 0:\n",
    "                pass_around_list.append((item, int(self.test[1][-1])))\n",
    "            else:\n",
    "                pass_around_list.append((item, int(self.test[2][-1])))\n",
    "        return pass_around_list\n",
    "\n",
    "    def pass_items(self, items: list, all_divisors_condensed: int) -> list[tuple]:\n",
    "        new = []\n",
    "        for old in items:\n",
    "            new.append(eval(self.operation_code) % all_divisors_condensed)\n",
    "\n",
    "        return self.test_items(items=new)\n",
    "\n",
    "\n",
    "def loop_monkeys(\n",
    "    loop_count: int,\n",
    "    monkeys: list[ChaosMonkey_pt2],\n",
    "    items: list[list[int]],\n",
    "    all_divisors_condensed: int,\n",
    ") -> list:\n",
    "    monkey_operations = [0 for _ in monkeys]\n",
    "    for i in range(loop_count):\n",
    "        for idx, monkey in enumerate(monkeys):\n",
    "            monkey_operations[idx] += len(items[idx])\n",
    "            new_items = monkey.pass_items(\n",
    "                items=items[idx], all_divisors_condensed=all_divisors_condensed\n",
    "            )\n",
    "\n",
    "            for item in new_items:\n",
    "                items[item[1]].append(item[0])\n",
    "            items[idx] = []\n",
    "\n",
    "    return monkey_operations"
   ]
  },
  {
   "cell_type": "markdown",
   "metadata": {},
   "source": [
    "### Code"
   ]
  },
  {
   "cell_type": "code",
   "execution_count": 23,
   "metadata": {},
   "outputs": [
    {
     "data": {
      "text/plain": [
       "15050382231"
      ]
     },
     "execution_count": 23,
     "metadata": {},
     "output_type": "execute_result"
    }
   ],
   "source": [
    "import heapq\n",
    "from functools import reduce\n",
    "\n",
    "list_of_chaos_monkeys = []\n",
    "items_per_monkey = []\n",
    "for monkey in input_data.split(\"\\n\\n\"):\n",
    "    list_of_chaos_monkeys.append(ChaosMonkey_pt2(defining_code=monkey))\n",
    "    items_per_monkey.append(\n",
    "        [int(item) for item in monkey.splitlines()[1].split(\":\")[1].split(\",\")]\n",
    "    )\n",
    "\n",
    "# Get all divisors for stress management\n",
    "all_divisors = []\n",
    "for monkey in list_of_chaos_monkeys:\n",
    "    all_divisors.append(int(monkey.test[0][21:]))\n",
    "all_divisors_condensed = reduce(lambda x, y: x * y, all_divisors)\n",
    "\n",
    "reduce(\n",
    "    lambda x, y: x * y,\n",
    "    heapq.nlargest(\n",
    "        2,\n",
    "        loop_monkeys(\n",
    "            loop_count=10000,\n",
    "            monkeys=list_of_chaos_monkeys,\n",
    "            items=items_per_monkey,\n",
    "            all_divisors_condensed=all_divisors_condensed,\n",
    "        ),\n",
    "    ),\n",
    ")"
   ]
  },
  {
   "cell_type": "markdown",
   "metadata": {},
   "source": [
    "# Day 12"
   ]
  },
  {
   "cell_type": "markdown",
   "metadata": {},
   "source": [
    "## Data"
   ]
  },
  {
   "cell_type": "code",
   "execution_count": 2,
   "metadata": {},
   "outputs": [],
   "source": [
    "from adventofcodedata_22 import data_day12\n",
    "\n",
    "import numpy as np\n",
    "import matplotlib.pyplot as plt\n",
    "\n",
    "input_data = data_day12"
   ]
  },
  {
   "cell_type": "markdown",
   "metadata": {},
   "source": [
    "## Part 1"
   ]
  },
  {
   "cell_type": "markdown",
   "metadata": {},
   "source": [
    "### Functions"
   ]
  },
  {
   "cell_type": "code",
   "execution_count": 7,
   "metadata": {},
   "outputs": [],
   "source": [
    "def get_neighbors(\n",
    "    grid: np.array, location: tuple, visited: list[tuple] = []\n",
    ") -> list[tuple]:\n",
    "    neighbors = []\n",
    "    if (\n",
    "        (location[1] + 1 < grid.shape[1])\n",
    "        and (grid[location[0], location[1] + 1] <= grid[location] + 1)\n",
    "        and ((location[0], location[1] + 1) not in visited)\n",
    "    ):\n",
    "        neighbors.append((location[0], location[1] + 1))\n",
    "    if (\n",
    "        (location[0] + 1 < grid.shape[0])\n",
    "        and (grid[location[0] + 1, location[1]] <= grid[location] + 1)\n",
    "        and ((location[0] + 1, location[1]) not in visited)\n",
    "    ):\n",
    "        neighbors.append((location[0] + 1, location[1]))\n",
    "    if (\n",
    "        (location[0] - 1 >= 0)\n",
    "        and (grid[location[0] - 1, location[1]] <= grid[location] + 1)\n",
    "        and ((location[0] - 1, location[1]) not in visited)\n",
    "    ):\n",
    "        neighbors.append((location[0] - 1, location[1]))\n",
    "    if (\n",
    "        (location[1] - 1 < 0)\n",
    "        and (grid[location[0], location[1] - 1] <= grid[location] + 1)\n",
    "        and ((location[0], location[1] - 1) not in visited)\n",
    "    ):\n",
    "        neighbors.append((location[0], location[1] - 1))\n",
    "\n",
    "    return neighbors\n",
    "\n",
    "\n",
    "def walk_grid(grid, current_location, end_location, steps=0, visited: list[tuple] = []):\n",
    "    visited_now = visited.copy()\n",
    "    visited_now.append(current_location)\n",
    "    optional_nodes = get_neighbors(grid=grid, location=current_location)\n",
    "    if end_location in optional_nodes:\n",
    "        return steps + 1\n",
    "    elif steps == 1000:\n",
    "        return 1000\n",
    "    else:\n",
    "        found_values = []\n",
    "        for next_location in optional_nodes:\n",
    "            found_values.append(\n",
    "                walk_grid(\n",
    "                    grid=grid,\n",
    "                    current_location=next_location,\n",
    "                    end_location=end_location,\n",
    "                    steps=steps + 1,\n",
    "                    visited=visited_now,\n",
    "                )\n",
    "            )\n",
    "        return min(found_values)"
   ]
  },
  {
   "cell_type": "markdown",
   "metadata": {},
   "source": [
    "### Code"
   ]
  },
  {
   "cell_type": "code",
   "execution_count": 4,
   "metadata": {},
   "outputs": [
    {
     "data": {
      "text/plain": [
       "<matplotlib.image.AxesImage at 0x19d169654f0>"
      ]
     },
     "execution_count": 4,
     "metadata": {},
     "output_type": "execute_result"
    },
    {
     "data": {
      "image/png": "[encoded data removed]",
      "text/plain": [
       "<Figure size 432x288 with 1 Axes>"
      ]
     },
     "metadata": {
      "needs_background": "light"
     },
     "output_type": "display_data"
    }
   ],
   "source": [
    "grid = np.zeros((len(input_data.splitlines()), len(input_data.splitlines()[0])))\n",
    "\n",
    "for x, line in enumerate(input_data.splitlines()):\n",
    "    for y, char in enumerate(line):\n",
    "        if char == \"E\":\n",
    "            grid[x, y] = ord(\"z\")+1\n",
    "        elif char == \"S\":\n",
    "            grid[x, y] = ord(\"a\")-1\n",
    "        else:\n",
    "            grid[x, y] = ord(char)\n",
    "\n",
    "plt.imshow(grid)"
   ]
  },
  {
   "cell_type": "code",
   "execution_count": 5,
   "metadata": {},
   "outputs": [],
   "source": [
    "start_loc = np.unravel_index(np.argmin(grid), grid.shape)\n",
    "end_loc = np.unravel_index(np.argmax(grid), grid.shape)"
   ]
  },
  {
   "cell_type": "code",
   "execution_count": null,
   "metadata": {},
   "outputs": [],
   "source": [
    "walk_grid(grid=grid, current_location=start_loc, end_location=end_loc)"
   ]
  },
  {
   "attachments": {},
   "cell_type": "markdown",
   "metadata": {},
   "source": [
    "### deque option because recursion took too long :("
   ]
  },
  {
   "cell_type": "code",
   "execution_count": 3,
   "metadata": {},
   "outputs": [
    {
     "name": "stdout",
     "output_type": "stream",
     "text": [
      "517\n",
      "519\n"
     ]
    }
   ],
   "source": [
    "from collections import deque\n",
    "\n",
    "grid = [list(x) for x in input_data.splitlines()]\n",
    "\n",
    "for y, row in enumerate(grid):\n",
    "    for x, item in enumerate(row):\n",
    "        if item == \"S\":\n",
    "            sy = y\n",
    "            sx = x\n",
    "            grid[y][x] = \"a\"\n",
    "        if item == \"E\":\n",
    "            ey = y\n",
    "            ex = x\n",
    "            grid[y][x] = \"z\"\n",
    "\n",
    "q = deque()\n",
    "q.append((0, sy, sx))\n",
    "\n",
    "visited = {(sy, sx)}\n",
    "\n",
    "while q:\n",
    "    d, y, x = q.popleft()\n",
    "    for new_y, new_x in [(y + 1, x), (y - 1, x), (y, x + 1), (y, x - 1)]:\n",
    "        if new_y < 0 or new_x < 0 or new_y >= len(grid) or new_x >= len(grid[0]):\n",
    "            continue\n",
    "        if (new_y, new_x) in visited:\n",
    "            continue\n",
    "        if ord(grid[new_y][new_x]) - ord(grid[y][x]) > 1:\n",
    "            continue\n",
    "        if new_y == ey and new_x == ex:\n",
    "            print(d + 1)\n",
    "            break\n",
    "        visited.add((new_y, new_x))\n",
    "        q.append((d + 1, new_y, new_x))"
   ]
  },
  {
   "cell_type": "markdown",
   "metadata": {},
   "source": [
    "## Part 2"
   ]
  },
  {
   "cell_type": "markdown",
   "metadata": {},
   "source": [
    "### Code"
   ]
  },
  {
   "cell_type": "code",
   "execution_count": 7,
   "metadata": {},
   "outputs": [
    {
     "name": "stdout",
     "output_type": "stream",
     "text": [
      "Number of starting locations evaluated: 2025\n"
     ]
    },
    {
     "data": {
      "text/plain": [
       "512"
      ]
     },
     "execution_count": 7,
     "metadata": {},
     "output_type": "execute_result"
    }
   ],
   "source": [
    "from collections import deque\n",
    "\n",
    "grid = [list(x) for x in input_data.splitlines()]\n",
    "\n",
    "sy = []\n",
    "sx = []\n",
    "for y, row in enumerate(grid):\n",
    "    for x, item in enumerate(row):\n",
    "        if item == \"S\":\n",
    "\n",
    "            grid[y][x] = \"a\"\n",
    "        if grid[y][x] == \"a\":\n",
    "            sy.append(y)\n",
    "            sx.append(x)\n",
    "        if item == \"E\":\n",
    "            ey = y\n",
    "            ex = x\n",
    "            grid[y][x] = \"z\"\n",
    "\n",
    "all_shortest_routes = []\n",
    "for i in range(len(sy)):\n",
    "    q = deque()\n",
    "    q.append((0, sy[i], sx[i]))\n",
    "\n",
    "    visited = {(sy[i], sx[i])}\n",
    "\n",
    "    while q:\n",
    "        d, y, x = q.popleft()\n",
    "        for new_y, new_x in [(y + 1, x), (y - 1, x), (y, x + 1), (y, x - 1)]:\n",
    "            if new_y < 0 or new_x < 0 or new_y >= len(grid) or new_x >= len(grid[0]):\n",
    "                continue\n",
    "            if (new_y, new_x) in visited:\n",
    "                continue\n",
    "            if ord(grid[new_y][new_x]) - ord(grid[y][x]) > 1:\n",
    "                continue\n",
    "            if new_y == ey and new_x == ex:\n",
    "                all_shortest_routes.append(d + 1)\n",
    "                break\n",
    "            visited.add((new_y, new_x))\n",
    "            q.append((d + 1, new_y, new_x))\n",
    "\n",
    "print(f\"Number of starting locations evaluated: {i}\")\n",
    "min(all_shortest_routes)"
   ]
  },
  {
   "cell_type": "markdown",
   "metadata": {},
   "source": [
    "# Day 13"
   ]
  },
  {
   "cell_type": "markdown",
   "metadata": {},
   "source": [
    "## Data"
   ]
  },
  {
   "cell_type": "code",
   "execution_count": 13,
   "metadata": {},
   "outputs": [],
   "source": [
    "from adventofcodedata_22 import data_day13, test_data_day13\n",
    "\n",
    "input_data = data_day13"
   ]
  },
  {
   "cell_type": "markdown",
   "metadata": {},
   "source": [
    "## Part 1"
   ]
  },
  {
   "cell_type": "markdown",
   "metadata": {},
   "source": [
    "### Functions"
   ]
  },
  {
   "cell_type": "code",
   "execution_count": 2,
   "metadata": {},
   "outputs": [],
   "source": [
    "def compare_ints(int1: int, int2: int) -> bool|None:\n",
    "    if int1==int2:\n",
    "        return None\n",
    "    else:\n",
    "        return int1<int2\n",
    "\n",
    "\n",
    "def compare_lists(list1: list, list2: list) -> bool|None:\n",
    "    if isinstance(list1, int) and isinstance(list2, int):\n",
    "        return compare_ints(int1=list1, int2=list2)\n",
    "\n",
    "    if not isinstance(list1, list):\n",
    "        return compare_lists(list1=[list1], list2=list2)\n",
    "    elif not isinstance(list2, list):\n",
    "        return compare_lists(list1=list1, list2=[list2])\n",
    "\n",
    "    for idx in range(len(list1)):\n",
    "        l1 = list1[idx]\n",
    "        try:\n",
    "            l2 = list2[idx]\n",
    "        except IndexError:\n",
    "            return False\n",
    "\n",
    "        if compare_lists(list1=l1, list2=l2)!=None:\n",
    "            return compare_lists(list1=l1, list2=l2)\n",
    "\n",
    "    if len(list1) == len(list2):\n",
    "        return None\n",
    "    return True\n",
    "\n"
   ]
  },
  {
   "cell_type": "markdown",
   "metadata": {},
   "source": [
    "### Code"
   ]
  },
  {
   "cell_type": "code",
   "execution_count": 15,
   "metadata": {},
   "outputs": [
    {
     "name": "stdout",
     "output_type": "stream",
     "text": [
      "6235\n"
     ]
    }
   ],
   "source": [
    "in_correct_order = 0\n",
    "\n",
    "for i in range(len(input_data)//2):\n",
    "    list1 = input_data[2*i]\n",
    "    list2 = input_data[2*i+1]\n",
    "    if compare_lists(list1=list1, list2=list2):\n",
    "        in_correct_order+=i+1\n",
    "print(in_correct_order)"
   ]
  },
  {
   "cell_type": "markdown",
   "metadata": {},
   "source": [
    "## Part 2"
   ]
  },
  {
   "cell_type": "markdown",
   "metadata": {},
   "source": [
    "### Functions"
   ]
  },
  {
   "cell_type": "code",
   "execution_count": 8,
   "metadata": {},
   "outputs": [],
   "source": [
    "def bubble_sort_that_stuff(array: list):\n",
    "    n = len(array)\n",
    "    swapped = False\n",
    "\n",
    "    for i in range(n-1):\n",
    "        for j in range(0, n-i-1):\n",
    "            if compare_lists(list1=array[j], list2=array[j+1]):\n",
    "                swapped = True\n",
    "                array[j], array[j + 1] = array[j + 1], array[j]\n",
    "         \n",
    "        if not swapped:\n",
    "            return"
   ]
  },
  {
   "cell_type": "markdown",
   "metadata": {},
   "source": [
    "### Code"
   ]
  },
  {
   "cell_type": "code",
   "execution_count": 14,
   "metadata": {},
   "outputs": [
    {
     "data": {
      "text/plain": [
       "22866"
      ]
     },
     "execution_count": 14,
     "metadata": {},
     "output_type": "execute_result"
    }
   ],
   "source": [
    "from copy import deepcopy\n",
    "from functools import reduce\n",
    "\n",
    "dividers = [[[2]],[[6]]]\n",
    "new_input = deepcopy(input_data)\n",
    "new_input.extend(dividers)\n",
    "\n",
    "bubble_sort_that_stuff(array=new_input)\n",
    "\n",
    "reduce(lambda x,y: x*y, [len(new_input)-new_input.index(divider) for divider in dividers])"
   ]
  },
  {
   "cell_type": "markdown",
   "metadata": {},
   "source": [
    "# Day 14"
   ]
  },
  {
   "cell_type": "markdown",
   "metadata": {},
   "source": [
    "## Data"
   ]
  },
  {
   "cell_type": "code",
   "execution_count": null,
   "metadata": {},
   "outputs": [],
   "source": []
  },
  {
   "cell_type": "markdown",
   "metadata": {},
   "source": [
    "## Part 1"
   ]
  },
  {
   "cell_type": "markdown",
   "metadata": {},
   "source": [
    "### Functions"
   ]
  },
  {
   "cell_type": "code",
   "execution_count": null,
   "metadata": {},
   "outputs": [],
   "source": []
  },
  {
   "cell_type": "markdown",
   "metadata": {},
   "source": [
    "### Code"
   ]
  },
  {
   "cell_type": "code",
   "execution_count": null,
   "metadata": {},
   "outputs": [],
   "source": []
  },
  {
   "cell_type": "markdown",
   "metadata": {},
   "source": [
    "## Part 2"
   ]
  },
  {
   "cell_type": "markdown",
   "metadata": {},
   "source": [
    "### Functions"
   ]
  },
  {
   "cell_type": "code",
   "execution_count": null,
   "metadata": {},
   "outputs": [],
   "source": []
  },
  {
   "cell_type": "markdown",
   "metadata": {},
   "source": [
    "### Code"
   ]
  },
  {
   "cell_type": "code",
   "execution_count": null,
   "metadata": {},
   "outputs": [],
   "source": []
  },
  {
   "cell_type": "markdown",
   "metadata": {},
   "source": [
    "# Day 15"
   ]
  },
  {
   "cell_type": "markdown",
   "metadata": {},
   "source": [
    "## Data"
   ]
  },
  {
   "cell_type": "code",
   "execution_count": null,
   "metadata": {},
   "outputs": [],
   "source": []
  },
  {
   "cell_type": "markdown",
   "metadata": {},
   "source": [
    "## Part 1"
   ]
  },
  {
   "cell_type": "markdown",
   "metadata": {},
   "source": [
    "### Functions"
   ]
  },
  {
   "cell_type": "code",
   "execution_count": null,
   "metadata": {},
   "outputs": [],
   "source": []
  },
  {
   "cell_type": "markdown",
   "metadata": {},
   "source": [
    "### Code"
   ]
  },
  {
   "cell_type": "code",
   "execution_count": null,
   "metadata": {},
   "outputs": [],
   "source": []
  },
  {
   "cell_type": "markdown",
   "metadata": {},
   "source": [
    "## Part 2"
   ]
  },
  {
   "cell_type": "markdown",
   "metadata": {},
   "source": [
    "### Functions"
   ]
  },
  {
   "cell_type": "code",
   "execution_count": null,
   "metadata": {},
   "outputs": [],
   "source": []
  },
  {
   "cell_type": "markdown",
   "metadata": {},
   "source": [
    "### Code"
   ]
  },
  {
   "cell_type": "code",
   "execution_count": null,
   "metadata": {},
   "outputs": [],
   "source": []
  },
  {
   "cell_type": "markdown",
   "metadata": {},
   "source": [
    "# Day 16"
   ]
  },
  {
   "cell_type": "markdown",
   "metadata": {},
   "source": [
    "## Data"
   ]
  },
  {
   "cell_type": "code",
   "execution_count": null,
   "metadata": {},
   "outputs": [],
   "source": []
  },
  {
   "cell_type": "markdown",
   "metadata": {},
   "source": [
    "## Part 1"
   ]
  },
  {
   "cell_type": "markdown",
   "metadata": {},
   "source": [
    "### Functions"
   ]
  },
  {
   "cell_type": "code",
   "execution_count": null,
   "metadata": {},
   "outputs": [],
   "source": []
  },
  {
   "cell_type": "markdown",
   "metadata": {},
   "source": [
    "### Code"
   ]
  },
  {
   "cell_type": "code",
   "execution_count": null,
   "metadata": {},
   "outputs": [],
   "source": []
  },
  {
   "cell_type": "markdown",
   "metadata": {},
   "source": [
    "## Part 2"
   ]
  },
  {
   "cell_type": "markdown",
   "metadata": {},
   "source": [
    "### Functions"
   ]
  },
  {
   "cell_type": "code",
   "execution_count": null,
   "metadata": {},
   "outputs": [],
   "source": []
  },
  {
   "cell_type": "markdown",
   "metadata": {},
   "source": [
    "### Code"
   ]
  },
  {
   "cell_type": "code",
   "execution_count": null,
   "metadata": {},
   "outputs": [],
   "source": []
  },
  {
   "cell_type": "markdown",
   "metadata": {},
   "source": [
    "# Day 17"
   ]
  },
  {
   "cell_type": "markdown",
   "metadata": {},
   "source": [
    "## Data"
   ]
  },
  {
   "cell_type": "code",
   "execution_count": null,
   "metadata": {},
   "outputs": [],
   "source": []
  },
  {
   "cell_type": "markdown",
   "metadata": {},
   "source": [
    "## Part 1"
   ]
  },
  {
   "cell_type": "markdown",
   "metadata": {},
   "source": [
    "### Functions"
   ]
  },
  {
   "cell_type": "code",
   "execution_count": null,
   "metadata": {},
   "outputs": [],
   "source": []
  },
  {
   "cell_type": "markdown",
   "metadata": {},
   "source": [
    "### Code"
   ]
  },
  {
   "cell_type": "code",
   "execution_count": null,
   "metadata": {},
   "outputs": [],
   "source": []
  },
  {
   "cell_type": "markdown",
   "metadata": {},
   "source": [
    "## Part 2"
   ]
  },
  {
   "cell_type": "markdown",
   "metadata": {},
   "source": [
    "### Functions"
   ]
  },
  {
   "cell_type": "code",
   "execution_count": null,
   "metadata": {},
   "outputs": [],
   "source": []
  },
  {
   "cell_type": "markdown",
   "metadata": {},
   "source": [
    "### Code"
   ]
  },
  {
   "cell_type": "code",
   "execution_count": null,
   "metadata": {},
   "outputs": [],
   "source": []
  },
  {
   "cell_type": "markdown",
   "metadata": {},
   "source": [
    "# Day 18"
   ]
  },
  {
   "cell_type": "markdown",
   "metadata": {},
   "source": [
    "## Data"
   ]
  },
  {
   "cell_type": "code",
   "execution_count": null,
   "metadata": {},
   "outputs": [],
   "source": []
  },
  {
   "cell_type": "markdown",
   "metadata": {},
   "source": [
    "## Part 1"
   ]
  },
  {
   "cell_type": "markdown",
   "metadata": {},
   "source": [
    "### Functions"
   ]
  },
  {
   "cell_type": "code",
   "execution_count": null,
   "metadata": {},
   "outputs": [],
   "source": []
  },
  {
   "cell_type": "markdown",
   "metadata": {},
   "source": [
    "### Code"
   ]
  },
  {
   "cell_type": "code",
   "execution_count": null,
   "metadata": {},
   "outputs": [],
   "source": []
  },
  {
   "cell_type": "markdown",
   "metadata": {},
   "source": [
    "## Part 2"
   ]
  },
  {
   "cell_type": "markdown",
   "metadata": {},
   "source": [
    "### Functions"
   ]
  },
  {
   "cell_type": "code",
   "execution_count": null,
   "metadata": {},
   "outputs": [],
   "source": []
  },
  {
   "cell_type": "markdown",
   "metadata": {},
   "source": [
    "### Code"
   ]
  },
  {
   "cell_type": "code",
   "execution_count": null,
   "metadata": {},
   "outputs": [],
   "source": []
  },
  {
   "cell_type": "markdown",
   "metadata": {},
   "source": [
    "# Day 19"
   ]
  },
  {
   "cell_type": "markdown",
   "metadata": {},
   "source": [
    "## Data"
   ]
  },
  {
   "cell_type": "code",
   "execution_count": null,
   "metadata": {},
   "outputs": [],
   "source": []
  },
  {
   "cell_type": "markdown",
   "metadata": {},
   "source": [
    "## Part 1"
   ]
  },
  {
   "cell_type": "markdown",
   "metadata": {},
   "source": [
    "### Functions"
   ]
  },
  {
   "cell_type": "code",
   "execution_count": null,
   "metadata": {},
   "outputs": [],
   "source": []
  },
  {
   "cell_type": "markdown",
   "metadata": {},
   "source": [
    "### Code"
   ]
  },
  {
   "cell_type": "code",
   "execution_count": null,
   "metadata": {},
   "outputs": [],
   "source": []
  },
  {
   "cell_type": "markdown",
   "metadata": {},
   "source": [
    "## Part 2"
   ]
  },
  {
   "cell_type": "markdown",
   "metadata": {},
   "source": [
    "### Functions"
   ]
  },
  {
   "cell_type": "code",
   "execution_count": null,
   "metadata": {},
   "outputs": [],
   "source": []
  },
  {
   "cell_type": "markdown",
   "metadata": {},
   "source": [
    "### Code"
   ]
  },
  {
   "cell_type": "code",
   "execution_count": null,
   "metadata": {},
   "outputs": [],
   "source": []
  },
  {
   "cell_type": "markdown",
   "metadata": {},
   "source": [
    "# Day 20"
   ]
  },
  {
   "cell_type": "markdown",
   "metadata": {},
   "source": [
    "## Data"
   ]
  },
  {
   "cell_type": "code",
   "execution_count": null,
   "metadata": {},
   "outputs": [],
   "source": []
  },
  {
   "cell_type": "markdown",
   "metadata": {},
   "source": [
    "## Part 1"
   ]
  },
  {
   "cell_type": "markdown",
   "metadata": {},
   "source": [
    "### Functions"
   ]
  },
  {
   "cell_type": "code",
   "execution_count": null,
   "metadata": {},
   "outputs": [],
   "source": []
  },
  {
   "cell_type": "markdown",
   "metadata": {},
   "source": [
    "### Code"
   ]
  },
  {
   "cell_type": "code",
   "execution_count": null,
   "metadata": {},
   "outputs": [],
   "source": []
  },
  {
   "cell_type": "markdown",
   "metadata": {},
   "source": [
    "## Part 2"
   ]
  },
  {
   "cell_type": "markdown",
   "metadata": {},
   "source": [
    "### Functions"
   ]
  },
  {
   "cell_type": "code",
   "execution_count": null,
   "metadata": {},
   "outputs": [],
   "source": []
  },
  {
   "cell_type": "markdown",
   "metadata": {},
   "source": [
    "### Code"
   ]
  },
  {
   "cell_type": "code",
   "execution_count": null,
   "metadata": {},
   "outputs": [],
   "source": []
  },
  {
   "cell_type": "markdown",
   "metadata": {},
   "source": [
    "# Day 21"
   ]
  },
  {
   "cell_type": "markdown",
   "metadata": {},
   "source": [
    "## Data"
   ]
  },
  {
   "cell_type": "code",
   "execution_count": null,
   "metadata": {},
   "outputs": [],
   "source": []
  },
  {
   "cell_type": "markdown",
   "metadata": {},
   "source": [
    "## Part 1"
   ]
  },
  {
   "cell_type": "markdown",
   "metadata": {},
   "source": [
    "### Functions"
   ]
  },
  {
   "cell_type": "code",
   "execution_count": null,
   "metadata": {},
   "outputs": [],
   "source": []
  },
  {
   "cell_type": "markdown",
   "metadata": {},
   "source": [
    "### Code"
   ]
  },
  {
   "cell_type": "code",
   "execution_count": null,
   "metadata": {},
   "outputs": [],
   "source": []
  },
  {
   "cell_type": "markdown",
   "metadata": {},
   "source": [
    "## Part 2"
   ]
  },
  {
   "cell_type": "markdown",
   "metadata": {},
   "source": [
    "### Functions"
   ]
  },
  {
   "cell_type": "code",
   "execution_count": null,
   "metadata": {},
   "outputs": [],
   "source": []
  },
  {
   "cell_type": "markdown",
   "metadata": {},
   "source": [
    "### Code"
   ]
  },
  {
   "cell_type": "code",
   "execution_count": null,
   "metadata": {},
   "outputs": [],
   "source": []
  },
  {
   "cell_type": "markdown",
   "metadata": {},
   "source": [
    "# Day 22"
   ]
  },
  {
   "cell_type": "markdown",
   "metadata": {},
   "source": [
    "## Data"
   ]
  },
  {
   "cell_type": "code",
   "execution_count": null,
   "metadata": {},
   "outputs": [],
   "source": []
  },
  {
   "cell_type": "markdown",
   "metadata": {},
   "source": [
    "## Part 1"
   ]
  },
  {
   "cell_type": "markdown",
   "metadata": {},
   "source": [
    "### Functions"
   ]
  },
  {
   "cell_type": "code",
   "execution_count": null,
   "metadata": {},
   "outputs": [],
   "source": []
  },
  {
   "cell_type": "markdown",
   "metadata": {},
   "source": [
    "### Code"
   ]
  },
  {
   "cell_type": "code",
   "execution_count": null,
   "metadata": {},
   "outputs": [],
   "source": []
  },
  {
   "cell_type": "markdown",
   "metadata": {},
   "source": [
    "## Part 2"
   ]
  },
  {
   "cell_type": "markdown",
   "metadata": {},
   "source": [
    "### Functions"
   ]
  },
  {
   "cell_type": "code",
   "execution_count": null,
   "metadata": {},
   "outputs": [],
   "source": []
  },
  {
   "cell_type": "markdown",
   "metadata": {},
   "source": [
    "### Code"
   ]
  },
  {
   "cell_type": "code",
   "execution_count": null,
   "metadata": {},
   "outputs": [],
   "source": []
  },
  {
   "cell_type": "markdown",
   "metadata": {},
   "source": [
    "# Day 23"
   ]
  },
  {
   "cell_type": "markdown",
   "metadata": {},
   "source": [
    "## Data"
   ]
  },
  {
   "cell_type": "code",
   "execution_count": null,
   "metadata": {},
   "outputs": [],
   "source": []
  },
  {
   "cell_type": "markdown",
   "metadata": {},
   "source": [
    "## Part 1"
   ]
  },
  {
   "cell_type": "markdown",
   "metadata": {},
   "source": [
    "### Functions"
   ]
  },
  {
   "cell_type": "code",
   "execution_count": null,
   "metadata": {},
   "outputs": [],
   "source": []
  },
  {
   "cell_type": "markdown",
   "metadata": {},
   "source": [
    "### Code"
   ]
  },
  {
   "cell_type": "code",
   "execution_count": null,
   "metadata": {},
   "outputs": [],
   "source": []
  },
  {
   "cell_type": "markdown",
   "metadata": {},
   "source": [
    "## Part 2"
   ]
  },
  {
   "cell_type": "markdown",
   "metadata": {},
   "source": [
    "### Functions"
   ]
  },
  {
   "cell_type": "code",
   "execution_count": null,
   "metadata": {},
   "outputs": [],
   "source": []
  },
  {
   "cell_type": "markdown",
   "metadata": {},
   "source": [
    "### Code"
   ]
  },
  {
   "cell_type": "code",
   "execution_count": null,
   "metadata": {},
   "outputs": [],
   "source": []
  },
  {
   "cell_type": "markdown",
   "metadata": {},
   "source": [
    "# Day 24"
   ]
  },
  {
   "cell_type": "markdown",
   "metadata": {},
   "source": [
    "## Data"
   ]
  },
  {
   "cell_type": "code",
   "execution_count": null,
   "metadata": {},
   "outputs": [],
   "source": []
  },
  {
   "cell_type": "markdown",
   "metadata": {},
   "source": [
    "## Part 1"
   ]
  },
  {
   "cell_type": "markdown",
   "metadata": {},
   "source": [
    "### Functions"
   ]
  },
  {
   "cell_type": "code",
   "execution_count": null,
   "metadata": {},
   "outputs": [],
   "source": []
  },
  {
   "cell_type": "markdown",
   "metadata": {},
   "source": [
    "### Code"
   ]
  },
  {
   "cell_type": "code",
   "execution_count": null,
   "metadata": {},
   "outputs": [],
   "source": []
  },
  {
   "cell_type": "markdown",
   "metadata": {},
   "source": [
    "## Part 2"
   ]
  },
  {
   "cell_type": "markdown",
   "metadata": {},
   "source": [
    "### Functions"
   ]
  },
  {
   "cell_type": "code",
   "execution_count": null,
   "metadata": {},
   "outputs": [],
   "source": []
  },
  {
   "cell_type": "markdown",
   "metadata": {},
   "source": [
    "### Code"
   ]
  },
  {
   "cell_type": "code",
   "execution_count": null,
   "metadata": {},
   "outputs": [],
   "source": []
  },
  {
   "cell_type": "markdown",
   "metadata": {},
   "source": [
    "# Day 25"
   ]
  },
  {
   "cell_type": "markdown",
   "metadata": {},
   "source": [
    "## Data"
   ]
  },
  {
   "cell_type": "code",
   "execution_count": null,
   "metadata": {},
   "outputs": [],
   "source": []
  },
  {
   "cell_type": "markdown",
   "metadata": {},
   "source": [
    "## Part 1"
   ]
  },
  {
   "cell_type": "markdown",
   "metadata": {},
   "source": [
    "### Functions"
   ]
  },
  {
   "cell_type": "code",
   "execution_count": null,
   "metadata": {},
   "outputs": [],
   "source": []
  },
  {
   "cell_type": "markdown",
   "metadata": {},
   "source": [
    "### Code"
   ]
  },
  {
   "cell_type": "code",
   "execution_count": null,
   "metadata": {},
   "outputs": [],
   "source": []
  },
  {
   "cell_type": "markdown",
   "metadata": {},
   "source": [
    "## Part 2"
   ]
  },
  {
   "cell_type": "markdown",
   "metadata": {},
   "source": [
    "### Functions"
   ]
  },
  {
   "cell_type": "code",
   "execution_count": null,
   "metadata": {},
   "outputs": [],
   "source": []
  },
  {
   "cell_type": "markdown",
   "metadata": {},
   "source": [
    "### Code"
   ]
  },
  {
   "cell_type": "code",
   "execution_count": null,
   "metadata": {},
   "outputs": [],
   "source": []
  }
 ],
 "metadata": {
  "kernelspec": {
   "display_name": "Python 3.10.7 64-bit",
   "language": "python",
   "name": "python3"
  },
  "language_info": {
   "codemirror_mode": {
    "name": "ipython",
    "version": 3
   },
   "file_extension": ".py",
   "mimetype": "text/x-python",
   "name": "python",
   "nbconvert_exporter": "python",
   "pygments_lexer": "ipython3",
   "version": "3.10.7"
  },
  "orig_nbformat": 4,
  "vscode": {
   "interpreter": {
    "hash": "7ed3aa251436c0ee3efb303ec00ab32db67a7a0c166fdae5acc821b8f1b6168c"
   }
  }
 },
 "nbformat": 4,
 "nbformat_minor": 2
}
